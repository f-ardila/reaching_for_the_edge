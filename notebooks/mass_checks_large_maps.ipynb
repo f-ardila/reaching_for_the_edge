{
 "cells": [
  {
   "cell_type": "markdown",
   "metadata": {},
   "source": [
    "Check the larger map size for mass  discrepancies"
   ]
  },
  {
   "cell_type": "markdown",
   "metadata": {},
   "source": [
    "## Large: 200 pixels; 15.0 kpc/pixel\n",
    "## Orig: 200 pixels, 5.0 kpc/pixel"
   ]
  },
  {
   "cell_type": "code",
   "execution_count": 1,
   "metadata": {},
   "outputs": [
    {
     "name": "stdout",
     "output_type": "stream",
     "text": [
      "Created TAP+ (v1.0) - Connection:\n",
      "\tHost: gea.esac.esa.int\n",
      "\tUse HTTPS: False\n",
      "\tPort: 80\n",
      "\tSSL Port: 443\n",
      "\n",
      "\n",
      "      +------------------------------------------------------------+\n",
      "      |             Space Telescope Tables Package                 |    \n",
      "      |                  TABLES Version 3.17                       |\n",
      "      |                                                            |\n",
      "      |   Space Telescope Science Institute, Baltimore, Maryland   |\n",
      "      |   Copyright (C) 2014 Association of Universities for       |\n",
      "      |            Research in Astronomy, Inc.(AURA)               |\n",
      "      |       See stsdas$copyright.stsdas for terms of use.        |\n",
      "      |         For help, send e-mail to help@stsci.edu            |\n",
      "      +------------------------------------------------------------+\n",
      "tables/:\n",
      " fitsio/        tbplot/         tobsolete/      ttools/\n",
      "\n",
      "\n",
      "      +------------------------------------------------------------+\n",
      "      |       Space Telescope Science Data Analysis System         |    \n",
      "      |                   STSDAS Version 3.17                      |\n",
      "      |                                                            |\n",
      "      |   Space Telescope Science Institute, Baltimore, Maryland   |\n",
      "      |   Copyright (C) 2014 Association of Universities for       |\n",
      "      |            Research in Astronomy, Inc.(AURA)               |\n",
      "      |       See stsdas$copyright.stsdas for terms of use.        |\n",
      "      |         For help, send e-mail to help@stsci.edu            |\n",
      "      |                                                            |\n",
      "      +------------------------------------------------------------+\n",
      "stsdas/:\n",
      " analysis/      examples        hst_calib/      sobsolete/\n",
      " contrib/       fitsio/         playpen/        toolbox/\n",
      " describe       graphics/       problems\n",
      "isophote/:\n",
      " bmodel         geompar@        isomap          magpar@\n",
      " controlpar@    isoexam         isopall         samplepar@\n",
      " ellipse        isoimap         isoplot\n"
     ]
    }
   ],
   "source": [
    "#import functions from module\n",
    "import sys\n",
    "sys.path.append('/Users/fardila/Documents/GitHub/HSC_vs_hydro/')\n",
    "from functions import *\n",
    "\n",
    "import numpy as np\n",
    "import os\n",
    "import pickle\n",
    "\n",
    "%matplotlib inline \n",
    "%load_ext autoreload \n",
    "%autoreload 2"
   ]
  },
  {
   "cell_type": "markdown",
   "metadata": {},
   "source": [
    "## check file properties"
   ]
  },
  {
   "cell_type": "code",
   "execution_count": 3,
   "metadata": {
    "collapsed": true
   },
   "outputs": [],
   "source": [
    "Illustris_file_large = '/Users/fardila/Documents/GitHub/HSC_vs_hydro/Data/Illustris/galaxies_orig_large.hdf5'\n",
    "Illustris_file_hires = '/Users/fardila/Documents/GitHub/HSC_vs_hydro/Data/Illustris/galaxies_orig_highres.hdf5'\n",
    "Illustris_file = '/Users/fardila/Documents/GitHub/HSC_vs_hydro/Data/Illustris/galaxies_orig_11.2.hdf5'\n"
   ]
  },
  {
   "cell_type": "markdown",
   "metadata": {},
   "source": [
    "#### LARGE "
   ]
  },
  {
   "cell_type": "code",
   "execution_count": 7,
   "metadata": {},
   "outputs": [
    {
     "name": "stdout",
     "output_type": "stream",
     "text": [
      "number of galaxies:  5\n",
      "map size in pixels:  200\n",
      "map size in kpc:  1500.0\n",
      "pixel scale:  15.0\n"
     ]
    }
   ],
   "source": [
    "f = h5py.File(Illustris_file_large, 'r')\n",
    "n_galaxies = len(f['cat_sh_id'])\n",
    "cat_sh_mstar = np.array(f['cat_sh_mstar'])\n",
    "map_size = f.attrs['stellar_map_size']\n",
    "n_pixels = f.attrs['stellar_map_np']\n",
    "pixel_scale=2 * (map_size/n_pixels)\n",
    "f.close()\n",
    "\n",
    "print \"number of galaxies: \", n_galaxies\n",
    "print \"map size in pixels: \", n_pixels\n",
    "print \"map size in kpc: \", map_size\n",
    "print \"pixel scale: \", pixel_scale"
   ]
  },
  {
   "cell_type": "markdown",
   "metadata": {},
   "source": [
    "#### HIRES "
   ]
  },
  {
   "cell_type": "code",
   "execution_count": 8,
   "metadata": {},
   "outputs": [
    {
     "name": "stdout",
     "output_type": "stream",
     "text": [
      "number of galaxies:  5\n",
      "map size in pixels:  500\n",
      "map size in kpc:  500.0\n",
      "pixel scale:  2.0\n"
     ]
    }
   ],
   "source": [
    "f = h5py.File(Illustris_file_hires, 'r')\n",
    "n_galaxies = len(f['cat_sh_id'])\n",
    "cat_sh_mstar = np.array(f['cat_sh_mstar'])\n",
    "map_size = f.attrs['stellar_map_size']\n",
    "n_pixels = f.attrs['stellar_map_np']\n",
    "pixel_scale=2 * (map_size/n_pixels)\n",
    "f.close()\n",
    "\n",
    "print \"number of galaxies: \", n_galaxies\n",
    "print \"map size in pixels: \", n_pixels\n",
    "print \"map size in kpc: \", map_size\n",
    "print \"pixel scale: \", pixel_scale"
   ]
  },
  {
   "cell_type": "markdown",
   "metadata": {},
   "source": [
    "## get masses"
   ]
  },
  {
   "cell_type": "code",
   "execution_count": 9,
   "metadata": {},
   "outputs": [
    {
     "name": "stdout",
     "output_type": "stream",
     "text": [
      "^^^^^^^^^^^^^^^^^^^^^^^^^^^^^^\n",
      "^^^^^^^^GALAXY 0^^^^^^^^^^^^^^\n",
      "^^^^^^^^^^^^^^^^^^^^^^^^^^^^^^\n",
      "----------------------------------------------------------------------------------------------------\n",
      "###      galX, galY :  100.0 100.0\n",
      "###      galR :  20.0\n",
      "###      iniSma, maxSma :  50.0 250\n",
      "###      Stage :  3\n",
      "###      Step :  0.05\n",
      "----------------------------------------------------------------------------------------------------\n",
      "##       Set up the Ellipse configuration\n",
      "----------------------------------------------------------------------------------------------------\n",
      "\n",
      "----------------------------------------------------------------------------------------------------\n",
      "##       Start the Ellipse Run: Attempt  1\n",
      "----------------------------------------------------------------------------------------------------\n",
      "###      Origin Image  : /Users/fardila/Documents/GitHub/HSC_vs_hydro/Figures/fits_files/Illustris_0_xy_cen.fits\n",
      "###      Input Image   : temp_MDMLK.fits\n",
      "###      Output Binary : /Users/fardila/Documents/GitHub/HSC_vs_hydro/Figures/fits_files/Illustris_0_xy_cen_ellip_3.bin\n",
      "----------------------------------------------------------------------------------------------------\n",
      "----------------------------------------------------------------------------------------------------\n",
      "###     Input background value   :  0.0\n",
      "###     1-D SBP background value :  6025380.0\n",
      "###     Current outer background :  6025380.0\n",
      "----------------------------------------------------------------------------------------------------\n",
      "^^^^^^^^^^^^^^^^^^^^^^^^^^^^^^\n",
      "^^^^^^^^GALAXY 1^^^^^^^^^^^^^^\n",
      "^^^^^^^^^^^^^^^^^^^^^^^^^^^^^^\n"
     ]
    },
    {
     "name": "stderr",
     "output_type": "stream",
     "text": [
      "/Users/fardila/Documents/Github/kungpao/kungpao/galsbp/galSBP.py:1619: RuntimeWarning: invalid value encountered in log10\n",
      "  expTime))\n"
     ]
    },
    {
     "name": "stdout",
     "output_type": "stream",
     "text": [
      "----------------------------------------------------------------------------------------------------\n",
      "###      galX, galY :  100.0 100.0\n",
      "###      galR :  20.0\n",
      "###      iniSma, maxSma :  50.0 250\n",
      "###      Stage :  3\n",
      "###      Step :  0.05\n",
      "----------------------------------------------------------------------------------------------------\n",
      "##       Set up the Ellipse configuration\n",
      "----------------------------------------------------------------------------------------------------\n",
      "\n",
      "----------------------------------------------------------------------------------------------------\n",
      "##       Start the Ellipse Run: Attempt  1\n",
      "----------------------------------------------------------------------------------------------------\n",
      "###      Origin Image  : /Users/fardila/Documents/GitHub/HSC_vs_hydro/Figures/fits_files/Illustris_1_xy_cen.fits\n",
      "###      Input Image   : temp_XUCCQ.fits\n",
      "###      Output Binary : /Users/fardila/Documents/GitHub/HSC_vs_hydro/Figures/fits_files/Illustris_1_xy_cen_ellip_3.bin\n",
      "----------------------------------------------------------------------------------------------------\n",
      "----------------------------------------------------------------------------------------------------\n",
      "###     Input background value   :  0.0\n",
      "###     1-D SBP background value :  2969824.0\n",
      "###     Current outer background :  2969824.0\n",
      "----------------------------------------------------------------------------------------------------\n",
      "^^^^^^^^^^^^^^^^^^^^^^^^^^^^^^\n",
      "^^^^^^^^GALAXY 2^^^^^^^^^^^^^^\n",
      "^^^^^^^^^^^^^^^^^^^^^^^^^^^^^^\n"
     ]
    },
    {
     "name": "stderr",
     "output_type": "stream",
     "text": [
      "/Users/fardila/Documents/Github/kungpao/kungpao/galsbp/galSBP.py:1619: RuntimeWarning: divide by zero encountered in log10\n",
      "  expTime))\n"
     ]
    },
    {
     "name": "stdout",
     "output_type": "stream",
     "text": [
      "----------------------------------------------------------------------------------------------------\n",
      "###      galX, galY :  100.0 100.0\n",
      "###      galR :  20.0\n",
      "###      iniSma, maxSma :  50.0 250\n",
      "###      Stage :  3\n",
      "###      Step :  0.05\n",
      "----------------------------------------------------------------------------------------------------\n",
      "##       Set up the Ellipse configuration\n",
      "----------------------------------------------------------------------------------------------------\n",
      "\n",
      "----------------------------------------------------------------------------------------------------\n",
      "##       Start the Ellipse Run: Attempt  1\n",
      "----------------------------------------------------------------------------------------------------\n",
      "###      Origin Image  : /Users/fardila/Documents/GitHub/HSC_vs_hydro/Figures/fits_files/Illustris_2_xy_cen.fits\n",
      "###      Input Image   : temp_YNNJV.fits\n",
      "###      Output Binary : /Users/fardila/Documents/GitHub/HSC_vs_hydro/Figures/fits_files/Illustris_2_xy_cen_ellip_3.bin\n",
      "----------------------------------------------------------------------------------------------------\n"
     ]
    },
    {
     "name": "stderr",
     "output_type": "stream",
     "text": [
      "/Users/fardila/Documents/Github/kungpao/kungpao/galsbp/galSBP.py:577: RuntimeWarning: divide by zero encountered in log10\n",
      "  sbpOri = zp - 2.5 * np.log10(intensOri / (pixArea * exptime))\n",
      "/Users/fardila/Documents/Github/kungpao/kungpao/galsbp/galSBP.py:578: RuntimeWarning: divide by zero encountered in log10\n",
      "  sbpSub = zp - 2.5 * np.log10(intensSub / (pixArea * exptime))\n",
      "/Users/fardila/Documents/Github/kungpao/kungpao/galsbp/galSBP.py:588: RuntimeWarning: divide by zero encountered in log10\n",
      "  (pixArea * exptime))\n",
      "/Users/fardila/Documents/Github/kungpao/kungpao/galsbp/galSBP.py:589: RuntimeWarning: invalid value encountered in subtract\n",
      "  sbp_err = (sbpSub - sbp_low)\n"
     ]
    },
    {
     "name": "stdout",
     "output_type": "stream",
     "text": [
      "----------------------------------------------------------------------------------------------------\n",
      "###     Input background value   :  0.0\n",
      "###     1-D SBP background value :  391793.0\n",
      "###     Current outer background :  391793.0\n",
      "----------------------------------------------------------------------------------------------------\n",
      "^^^^^^^^^^^^^^^^^^^^^^^^^^^^^^\n",
      "^^^^^^^^GALAXY 3^^^^^^^^^^^^^^\n",
      "^^^^^^^^^^^^^^^^^^^^^^^^^^^^^^\n",
      "----------------------------------------------------------------------------------------------------\n",
      "###      galX, galY :  100.0 100.0\n",
      "###      galR :  20.0\n",
      "###      iniSma, maxSma :  50.0 250\n",
      "###      Stage :  3\n",
      "###      Step :  0.05\n",
      "----------------------------------------------------------------------------------------------------\n",
      "##       Set up the Ellipse configuration\n",
      "----------------------------------------------------------------------------------------------------\n",
      "\n",
      "----------------------------------------------------------------------------------------------------\n",
      "##       Start the Ellipse Run: Attempt  1\n",
      "----------------------------------------------------------------------------------------------------\n",
      "###      Origin Image  : /Users/fardila/Documents/GitHub/HSC_vs_hydro/Figures/fits_files/Illustris_3_xy_cen.fits\n",
      "###      Input Image   : temp_UI1P7.fits\n",
      "###      Output Binary : /Users/fardila/Documents/GitHub/HSC_vs_hydro/Figures/fits_files/Illustris_3_xy_cen_ellip_3.bin\n",
      "----------------------------------------------------------------------------------------------------\n",
      "----------------------------------------------------------------------------------------------------\n",
      "###     Input background value   :  0.0\n",
      "###     1-D SBP background value :  2150384.0\n",
      "###     Current outer background :  2150384.0\n",
      "----------------------------------------------------------------------------------------------------\n",
      "^^^^^^^^^^^^^^^^^^^^^^^^^^^^^^\n",
      "^^^^^^^^GALAXY 4^^^^^^^^^^^^^^\n",
      "^^^^^^^^^^^^^^^^^^^^^^^^^^^^^^\n",
      "----------------------------------------------------------------------------------------------------\n",
      "###      galX, galY :  100.0 100.0\n",
      "###      galR :  20.0\n",
      "###      iniSma, maxSma :  50.0 250\n",
      "###      Stage :  3\n",
      "###      Step :  0.05\n",
      "----------------------------------------------------------------------------------------------------\n",
      "##       Set up the Ellipse configuration\n",
      "----------------------------------------------------------------------------------------------------\n",
      "\n",
      "----------------------------------------------------------------------------------------------------\n",
      "##       Start the Ellipse Run: Attempt  1\n",
      "----------------------------------------------------------------------------------------------------\n",
      "###      Origin Image  : /Users/fardila/Documents/GitHub/HSC_vs_hydro/Figures/fits_files/Illustris_4_xy_cen.fits\n",
      "###      Input Image   : temp_D7565.fits\n",
      "###      Output Binary : /Users/fardila/Documents/GitHub/HSC_vs_hydro/Figures/fits_files/Illustris_4_xy_cen_ellip_3.bin\n",
      "----------------------------------------------------------------------------------------------------\n",
      "----------------------------------------------------------------------------------------------------\n",
      "###     Input background value   :  0.0\n",
      "###     1-D SBP background value :  259558.8\n",
      "###     Current outer background :  259558.8\n",
      "----------------------------------------------------------------------------------------------------\n",
      "^^^^^^^^^^^^^^^^^^^^^^^^^^^^^^\n",
      "^^^^^^^^GALAXY 0^^^^^^^^^^^^^^\n",
      "^^^^^^^^^^^^^^^^^^^^^^^^^^^^^^\n",
      "----------------------------------------------------------------------------------------------------\n",
      "###      galX, galY :  100.0 100.0\n",
      "###      galR :  20.0\n",
      "###      iniSma, maxSma :  50.0 250\n",
      "###      Stage :  3\n",
      "###      Step :  0.05\n",
      "----------------------------------------------------------------------------------------------------\n",
      "##       Set up the Ellipse configuration\n",
      "----------------------------------------------------------------------------------------------------\n",
      "\n",
      "----------------------------------------------------------------------------------------------------\n",
      "##       Start the Ellipse Run: Attempt  1\n",
      "----------------------------------------------------------------------------------------------------\n",
      "###      Origin Image  : /Users/fardila/Documents/GitHub/HSC_vs_hydro/Figures/fits_files/Illustris_0_xy_cen.fits\n",
      "###      Input Image   : temp_IETEC.fits\n",
      "###      Output Binary : /Users/fardila/Documents/GitHub/HSC_vs_hydro/Figures/fits_files/Illustris_0_xy_cen_ellip_3.bin\n",
      "----------------------------------------------------------------------------------------------------\n",
      "!!! DANGEROUS : Outer boundary is not safe !!!\n",
      "----------------------------------------------------------------------------------------------------\n",
      "###     Input background value   :  0.0\n",
      "###     1-D SBP background value :  0.0\n",
      "###     Current outer background :  0.0\n",
      "----------------------------------------------------------------------------------------------------\n",
      "!!! DANGEROUS : Outer boundary is not safe !!!\n",
      " XXX radOuter is NaN, use 0.80 * max(SMA) !\n"
     ]
    },
    {
     "name": "stderr",
     "output_type": "stream",
     "text": [
      "/Users/fardila/Documents/Github/kungpao/kungpao/galsbp/galSBP.py:793: RuntimeWarning: Mean of empty slice\n",
      "  outRsma = np.nanmean(negRad)\n",
      "/Users/fardila/anaconda/envs/hsc_hydro/lib/python2.7/site-packages/astropy/table/column.py:929: RuntimeWarning: invalid value encountered in greater\n",
      "  return getattr(self.data, oper)(other)\n"
     ]
    },
    {
     "name": "stdout",
     "output_type": "stream",
     "text": [
      "^^^^^^^^^^^^^^^^^^^^^^^^^^^^^^\n",
      "^^^^^^^^GALAXY 1^^^^^^^^^^^^^^\n",
      "^^^^^^^^^^^^^^^^^^^^^^^^^^^^^^\n",
      "----------------------------------------------------------------------------------------------------\n",
      "###      galX, galY :  100.0 100.0\n",
      "###      galR :  20.0\n",
      "###      iniSma, maxSma :  50.0 250\n",
      "###      Stage :  3\n",
      "###      Step :  0.05\n",
      "----------------------------------------------------------------------------------------------------\n",
      "##       Set up the Ellipse configuration\n",
      "----------------------------------------------------------------------------------------------------\n",
      "\n",
      "----------------------------------------------------------------------------------------------------\n",
      "##       Start the Ellipse Run: Attempt  1\n",
      "----------------------------------------------------------------------------------------------------\n",
      "###      Origin Image  : /Users/fardila/Documents/GitHub/HSC_vs_hydro/Figures/fits_files/Illustris_1_xy_cen.fits\n",
      "###      Input Image   : temp_VJ675.fits\n",
      "###      Output Binary : /Users/fardila/Documents/GitHub/HSC_vs_hydro/Figures/fits_files/Illustris_1_xy_cen_ellip_3.bin\n",
      "----------------------------------------------------------------------------------------------------\n",
      "!!!!!!!!!!!!!!!!!!!!!!!!!!!!!!!!!!!!!!!!!!!!!!!!!!!!!!!!!!!!!!!!!!!!!!!!!!!!!!!!!!!!!!!!!!!!!!!!!!!!\n",
      "###  ELLIPSE RUN FAILED IN ATTEMPT:  0\n",
      "###  Error Information :  XXX Can not find the outBin: /Users/fardila/Documents/GitHub/HSC_vs_hydro/Figures/fits_files/Illustris_1_xy_cen_ellip_3.bin!\n",
      "###  !!! Make the Ellipse Run A Little Bit Easier !\n",
      "!!!!!!!!!!!!!!!!!!!!!!!!!!!!!!!!!!!!!!!!!!!!!!!!!!!!!!!!!!!!!!!!!!!!!!!!!!!!!!!!!!!!!!!!!!!!!!!!!!!!\n",
      "----------------------------------------------------------------------------------------------------\n",
      "###  Maxsma  250.0 -->  225.0\n",
      "----------------------------------------------------------------------------------------------------\n",
      "\n",
      "----------------------------------------------------------------------------------------------------\n",
      "##       Start the Ellipse Run: Attempt  2\n",
      "----------------------------------------------------------------------------------------------------\n",
      "###      Origin Image  : /Users/fardila/Documents/GitHub/HSC_vs_hydro/Figures/fits_files/Illustris_1_xy_cen.fits\n",
      "###      Input Image   : temp_VJ675.fits\n",
      "###      Output Binary : /Users/fardila/Documents/GitHub/HSC_vs_hydro/Figures/fits_files/Illustris_1_xy_cen_ellip_3.bin\n",
      "----------------------------------------------------------------------------------------------------\n",
      "!!!!!!!!!!!!!!!!!!!!!!!!!!!!!!!!!!!!!!!!!!!!!!!!!!!!!!!!!!!!!!!!!!!!!!!!!!!!!!!!!!!!!!!!!!!!!!!!!!!!\n",
      "###  ELLIPSE RUN FAILED IN ATTEMPT:  1\n",
      "###  Error Information :  XXX Can not find the outBin: /Users/fardila/Documents/GitHub/HSC_vs_hydro/Figures/fits_files/Illustris_1_xy_cen_ellip_3.bin!\n",
      "###  !!! Make the Ellipse Run A Little Bit Easier !\n",
      "!!!!!!!!!!!!!!!!!!!!!!!!!!!!!!!!!!!!!!!!!!!!!!!!!!!!!!!!!!!!!!!!!!!!!!!!!!!!!!!!!!!!!!!!!!!!!!!!!!!!\n",
      "----------------------------------------------------------------------------------------------------\n",
      "###  Maxsma  225.0 -->  202.5\n",
      "----------------------------------------------------------------------------------------------------\n",
      "\n",
      "----------------------------------------------------------------------------------------------------\n",
      "##       Start the Ellipse Run: Attempt  3\n",
      "----------------------------------------------------------------------------------------------------\n",
      "###      Origin Image  : /Users/fardila/Documents/GitHub/HSC_vs_hydro/Figures/fits_files/Illustris_1_xy_cen.fits\n",
      "###      Input Image   : temp_VJ675.fits\n",
      "###      Output Binary : /Users/fardila/Documents/GitHub/HSC_vs_hydro/Figures/fits_files/Illustris_1_xy_cen_ellip_3.bin\n",
      "----------------------------------------------------------------------------------------------------\n",
      "!!!!!!!!!!!!!!!!!!!!!!!!!!!!!!!!!!!!!!!!!!!!!!!!!!!!!!!!!!!!!!!!!!!!!!!!!!!!!!!!!!!!!!!!!!!!!!!!!!!!\n",
      "###  ELLIPSE RUN FAILED IN ATTEMPT:  2\n",
      "###  Error Information :  XXX Can not find the outBin: /Users/fardila/Documents/GitHub/HSC_vs_hydro/Figures/fits_files/Illustris_1_xy_cen_ellip_3.bin!\n",
      "###  !!! Make the Ellipse Run A Little Bit Easier !\n",
      "!!!!!!!!!!!!!!!!!!!!!!!!!!!!!!!!!!!!!!!!!!!!!!!!!!!!!!!!!!!!!!!!!!!!!!!!!!!!!!!!!!!!!!!!!!!!!!!!!!!!\n",
      "----------------------------------------------------------------------------------------------------\n",
      "###  Maxsma  202.5 -->  182.2\n",
      "----------------------------------------------------------------------------------------------------\n",
      "\n",
      "----------------------------------------------------------------------------------------------------\n",
      "##       Start the Ellipse Run: Attempt  4\n",
      "----------------------------------------------------------------------------------------------------\n",
      "###      Origin Image  : /Users/fardila/Documents/GitHub/HSC_vs_hydro/Figures/fits_files/Illustris_1_xy_cen.fits\n",
      "###      Input Image   : temp_VJ675.fits\n",
      "###      Output Binary : /Users/fardila/Documents/GitHub/HSC_vs_hydro/Figures/fits_files/Illustris_1_xy_cen_ellip_3.bin\n",
      "----------------------------------------------------------------------------------------------------\n",
      "!!!!!!!!!!!!!!!!!!!!!!!!!!!!!!!!!!!!!!!!!!!!!!!!!!!!!!!!!!!!!!!!!!!!!!!!!!!!!!!!!!!!!!!!!!!!!!!!!!!!\n",
      "###  ELLIPSE RUN FAILED IN ATTEMPT:  3\n",
      "###  Error Information :  XXX Can not find the outBin: /Users/fardila/Documents/GitHub/HSC_vs_hydro/Figures/fits_files/Illustris_1_xy_cen_ellip_3.bin!\n",
      "###  !!! Make the Ellipse Run A Little Bit Easier !\n",
      "!!!!!!!!!!!!!!!!!!!!!!!!!!!!!!!!!!!!!!!!!!!!!!!!!!!!!!!!!!!!!!!!!!!!!!!!!!!!!!!!!!!!!!!!!!!!!!!!!!!!\n",
      "----------------------------------------------------------------------------------------------------\n",
      "###  Maxsma  182.2 -->  164.0\n",
      "----------------------------------------------------------------------------------------------------\n",
      "!!!!!!!!!!!!!!!!!!!!!!!!!!!!!!!!!!!!!!!!!!!!!!!!!!!!!!!!!!!!!!!!!!!!!!!!!!!!!!!!!!!!!!!!!!!!!!!!!!!!\n",
      "###  ELLIPSE RUN FAILED AFTER   4 ATTEMPTS!!!\n",
      "!!!!!!!!!!!!!!!!!!!!!!!!!!!!!!!!!!!!!!!!!!!!!!!!!!!!!!!!!!!!!!!!!!!!!!!!!!!!!!!!!!!!!!!!!!!!!!!!!!!!\n",
      "^^^^^^^^^^^^^^^^^^^^^^^^^^^^^^\n",
      "^^^^^^^^GALAXY 2^^^^^^^^^^^^^^\n",
      "^^^^^^^^^^^^^^^^^^^^^^^^^^^^^^\n",
      "----------------------------------------------------------------------------------------------------\n",
      "###      galX, galY :  100.0 100.0\n",
      "###      galR :  20.0\n",
      "###      iniSma, maxSma :  50.0 250\n",
      "###      Stage :  3\n",
      "###      Step :  0.05\n",
      "----------------------------------------------------------------------------------------------------\n",
      "##       Set up the Ellipse configuration\n",
      "----------------------------------------------------------------------------------------------------\n",
      "\n",
      "----------------------------------------------------------------------------------------------------\n",
      "##       Start the Ellipse Run: Attempt  1\n",
      "----------------------------------------------------------------------------------------------------\n",
      "###      Origin Image  : /Users/fardila/Documents/GitHub/HSC_vs_hydro/Figures/fits_files/Illustris_2_xy_cen.fits\n",
      "###      Input Image   : temp_H4AON.fits\n",
      "###      Output Binary : /Users/fardila/Documents/GitHub/HSC_vs_hydro/Figures/fits_files/Illustris_2_xy_cen_ellip_3.bin\n",
      "----------------------------------------------------------------------------------------------------\n",
      "!!! DANGEROUS : Outer boundary is not safe !!!\n",
      "----------------------------------------------------------------------------------------------------\n",
      "###     Input background value   :  0.0\n",
      "###     1-D SBP background value :  0.0\n",
      "###     Current outer background :  0.0\n",
      "----------------------------------------------------------------------------------------------------\n",
      "!!! DANGEROUS : Outer boundary is not safe !!!\n",
      " XXX radOuter is NaN, use 0.80 * max(SMA) !\n",
      "^^^^^^^^^^^^^^^^^^^^^^^^^^^^^^\n",
      "^^^^^^^^GALAXY 3^^^^^^^^^^^^^^\n",
      "^^^^^^^^^^^^^^^^^^^^^^^^^^^^^^\n",
      "----------------------------------------------------------------------------------------------------\n",
      "###      galX, galY :  100.0 100.0\n",
      "###      galR :  20.0\n",
      "###      iniSma, maxSma :  50.0 250\n",
      "###      Stage :  3\n",
      "###      Step :  0.05\n",
      "----------------------------------------------------------------------------------------------------\n",
      "##       Set up the Ellipse configuration\n",
      "----------------------------------------------------------------------------------------------------\n",
      "\n",
      "----------------------------------------------------------------------------------------------------\n",
      "##       Start the Ellipse Run: Attempt  1\n",
      "----------------------------------------------------------------------------------------------------\n",
      "###      Origin Image  : /Users/fardila/Documents/GitHub/HSC_vs_hydro/Figures/fits_files/Illustris_3_xy_cen.fits\n",
      "###      Input Image   : temp_DET9N.fits\n",
      "###      Output Binary : /Users/fardila/Documents/GitHub/HSC_vs_hydro/Figures/fits_files/Illustris_3_xy_cen_ellip_3.bin\n"
     ]
    },
    {
     "name": "stdout",
     "output_type": "stream",
     "text": [
      "----------------------------------------------------------------------------------------------------\n",
      "!!! DANGEROUS : Outer boundary is not safe !!!\n",
      "----------------------------------------------------------------------------------------------------\n",
      "###     Input background value   :  0.0\n",
      "###     1-D SBP background value :  0.0\n",
      "###     Current outer background :  0.0\n",
      "----------------------------------------------------------------------------------------------------\n",
      "!!! DANGEROUS : Outer boundary is not safe !!!\n",
      " XXX radOuter is NaN, use 0.80 * max(SMA) !\n",
      "^^^^^^^^^^^^^^^^^^^^^^^^^^^^^^\n",
      "^^^^^^^^GALAXY 4^^^^^^^^^^^^^^\n",
      "^^^^^^^^^^^^^^^^^^^^^^^^^^^^^^\n",
      "----------------------------------------------------------------------------------------------------\n",
      "###      galX, galY :  100.0 100.0\n",
      "###      galR :  20.0\n",
      "###      iniSma, maxSma :  50.0 250\n",
      "###      Stage :  3\n",
      "###      Step :  0.05\n",
      "----------------------------------------------------------------------------------------------------\n",
      "##       Set up the Ellipse configuration\n",
      "----------------------------------------------------------------------------------------------------\n",
      "\n",
      "----------------------------------------------------------------------------------------------------\n",
      "##       Start the Ellipse Run: Attempt  1\n",
      "----------------------------------------------------------------------------------------------------\n",
      "###      Origin Image  : /Users/fardila/Documents/GitHub/HSC_vs_hydro/Figures/fits_files/Illustris_4_xy_cen.fits\n",
      "###      Input Image   : temp_UG3I0.fits\n",
      "###      Output Binary : /Users/fardila/Documents/GitHub/HSC_vs_hydro/Figures/fits_files/Illustris_4_xy_cen_ellip_3.bin\n",
      "----------------------------------------------------------------------------------------------------\n",
      "!!! DANGEROUS : Outer boundary is not safe !!!\n",
      "----------------------------------------------------------------------------------------------------\n",
      "###     Input background value   :  0.0\n",
      "###     1-D SBP background value :  0.0\n",
      "###     Current outer background :  0.0\n",
      "----------------------------------------------------------------------------------------------------\n",
      "!!! DANGEROUS : Outer boundary is not safe !!!\n",
      " XXX radOuter is NaN, use 0.80 * max(SMA) !\n",
      "^^^^^^^^^^^^^^^^^^^^^^^^^^^^^^\n",
      "^^^^^^^^GALAXY 0^^^^^^^^^^^^^^\n",
      "^^^^^^^^^^^^^^^^^^^^^^^^^^^^^^\n",
      "----------------------------------------------------------------------------------------------------\n",
      "###      galX, galY :  100.0 100.0\n",
      "###      galR :  20.0\n",
      "###      iniSma, maxSma :  50.0 250\n",
      "###      Stage :  3\n",
      "###      Step :  0.05\n",
      "----------------------------------------------------------------------------------------------------\n",
      "##       Set up the Ellipse configuration\n",
      "----------------------------------------------------------------------------------------------------\n",
      "\n",
      "----------------------------------------------------------------------------------------------------\n",
      "##       Start the Ellipse Run: Attempt  1\n",
      "----------------------------------------------------------------------------------------------------\n",
      "###      Origin Image  : /Users/fardila/Documents/GitHub/HSC_vs_hydro/Figures/fits_files/Illustris_0_xy_cen.fits\n",
      "###      Input Image   : temp_2SRDL.fits\n",
      "###      Output Binary : /Users/fardila/Documents/GitHub/HSC_vs_hydro/Figures/fits_files/Illustris_0_xy_cen_ellip_3.bin\n",
      "----------------------------------------------------------------------------------------------------\n",
      "----------------------------------------------------------------------------------------------------\n",
      "###     Input background value   :  0.0\n",
      "###     1-D SBP background value :  15547175.0\n",
      "###     Current outer background :  15547175.0\n",
      "----------------------------------------------------------------------------------------------------\n",
      "^^^^^^^^^^^^^^^^^^^^^^^^^^^^^^\n",
      "^^^^^^^^GALAXY 1^^^^^^^^^^^^^^\n",
      "^^^^^^^^^^^^^^^^^^^^^^^^^^^^^^\n",
      "----------------------------------------------------------------------------------------------------\n",
      "###      galX, galY :  100.0 100.0\n",
      "###      galR :  20.0\n",
      "###      iniSma, maxSma :  50.0 250\n",
      "###      Stage :  3\n",
      "###      Step :  0.05\n",
      "----------------------------------------------------------------------------------------------------\n",
      "##       Set up the Ellipse configuration\n",
      "----------------------------------------------------------------------------------------------------\n",
      "\n",
      "----------------------------------------------------------------------------------------------------\n",
      "##       Start the Ellipse Run: Attempt  1\n",
      "----------------------------------------------------------------------------------------------------\n",
      "###      Origin Image  : /Users/fardila/Documents/GitHub/HSC_vs_hydro/Figures/fits_files/Illustris_1_xy_cen.fits\n",
      "###      Input Image   : temp_7S0OJ.fits\n",
      "###      Output Binary : /Users/fardila/Documents/GitHub/HSC_vs_hydro/Figures/fits_files/Illustris_1_xy_cen_ellip_3.bin\n",
      "----------------------------------------------------------------------------------------------------\n",
      "----------------------------------------------------------------------------------------------------\n",
      "###     Input background value   :  0.0\n",
      "###     1-D SBP background value :  12708378.0\n",
      "###     Current outer background :  12708378.0\n",
      "----------------------------------------------------------------------------------------------------\n",
      "^^^^^^^^^^^^^^^^^^^^^^^^^^^^^^\n",
      "^^^^^^^^GALAXY 2^^^^^^^^^^^^^^\n",
      "^^^^^^^^^^^^^^^^^^^^^^^^^^^^^^\n",
      "----------------------------------------------------------------------------------------------------\n",
      "###      galX, galY :  100.0 100.0\n",
      "###      galR :  20.0\n",
      "###      iniSma, maxSma :  50.0 250\n",
      "###      Stage :  3\n",
      "###      Step :  0.05\n",
      "----------------------------------------------------------------------------------------------------\n",
      "##       Set up the Ellipse configuration\n",
      "----------------------------------------------------------------------------------------------------\n",
      "\n",
      "----------------------------------------------------------------------------------------------------\n",
      "##       Start the Ellipse Run: Attempt  1\n",
      "----------------------------------------------------------------------------------------------------\n",
      "###      Origin Image  : /Users/fardila/Documents/GitHub/HSC_vs_hydro/Figures/fits_files/Illustris_2_xy_cen.fits\n",
      "###      Input Image   : temp_2DQKQ.fits\n",
      "###      Output Binary : /Users/fardila/Documents/GitHub/HSC_vs_hydro/Figures/fits_files/Illustris_2_xy_cen_ellip_3.bin\n",
      "----------------------------------------------------------------------------------------------------\n",
      "----------------------------------------------------------------------------------------------------\n",
      "###     Input background value   :  0.0\n",
      "###     1-D SBP background value :  9256251.0\n",
      "###     Current outer background :  9256251.0\n",
      "----------------------------------------------------------------------------------------------------\n",
      "^^^^^^^^^^^^^^^^^^^^^^^^^^^^^^\n",
      "^^^^^^^^GALAXY 3^^^^^^^^^^^^^^\n",
      "^^^^^^^^^^^^^^^^^^^^^^^^^^^^^^\n",
      "----------------------------------------------------------------------------------------------------\n",
      "###      galX, galY :  100.0 100.0\n",
      "###      galR :  20.0\n",
      "###      iniSma, maxSma :  50.0 250\n",
      "###      Stage :  3\n",
      "###      Step :  0.05\n",
      "----------------------------------------------------------------------------------------------------\n",
      "##       Set up the Ellipse configuration\n",
      "----------------------------------------------------------------------------------------------------\n",
      "\n",
      "----------------------------------------------------------------------------------------------------\n",
      "##       Start the Ellipse Run: Attempt  1\n",
      "----------------------------------------------------------------------------------------------------\n",
      "###      Origin Image  : /Users/fardila/Documents/GitHub/HSC_vs_hydro/Figures/fits_files/Illustris_3_xy_cen.fits\n",
      "###      Input Image   : temp_NZY44.fits\n",
      "###      Output Binary : /Users/fardila/Documents/GitHub/HSC_vs_hydro/Figures/fits_files/Illustris_3_xy_cen_ellip_3.bin\n",
      "----------------------------------------------------------------------------------------------------\n",
      "----------------------------------------------------------------------------------------------------\n",
      "###     Input background value   :  0.0\n",
      "###     1-D SBP background value :  6824218.0\n",
      "###     Current outer background :  6824218.0\n",
      "----------------------------------------------------------------------------------------------------\n"
     ]
    },
    {
     "name": "stdout",
     "output_type": "stream",
     "text": [
      "^^^^^^^^^^^^^^^^^^^^^^^^^^^^^^\n",
      "^^^^^^^^GALAXY 4^^^^^^^^^^^^^^\n",
      "^^^^^^^^^^^^^^^^^^^^^^^^^^^^^^\n",
      "----------------------------------------------------------------------------------------------------\n",
      "###      galX, galY :  100.0 100.0\n",
      "###      galR :  20.0\n",
      "###      iniSma, maxSma :  50.0 250\n",
      "###      Stage :  3\n",
      "###      Step :  0.05\n",
      "----------------------------------------------------------------------------------------------------\n",
      "##       Set up the Ellipse configuration\n",
      "----------------------------------------------------------------------------------------------------\n",
      "\n",
      "----------------------------------------------------------------------------------------------------\n",
      "##       Start the Ellipse Run: Attempt  1\n",
      "----------------------------------------------------------------------------------------------------\n",
      "###      Origin Image  : /Users/fardila/Documents/GitHub/HSC_vs_hydro/Figures/fits_files/Illustris_4_xy_cen.fits\n",
      "###      Input Image   : temp_B1588.fits\n",
      "###      Output Binary : /Users/fardila/Documents/GitHub/HSC_vs_hydro/Figures/fits_files/Illustris_4_xy_cen_ellip_3.bin\n",
      "----------------------------------------------------------------------------------------------------\n",
      "----------------------------------------------------------------------------------------------------\n",
      "###     Input background value   :  0.0\n",
      "###     1-D SBP background value :  2945663.0\n",
      "###     Current outer background :  2945663.0\n",
      "----------------------------------------------------------------------------------------------------\n",
      "^^^^^^^^^^^^^^^^^^^^^^^^^^^^^^\n",
      "^^^^^^^^GALAXY 5^^^^^^^^^^^^^^\n",
      "^^^^^^^^^^^^^^^^^^^^^^^^^^^^^^\n",
      "----------------------------------------------------------------------------------------------------\n",
      "###      galX, galY :  100.0 100.0\n",
      "###      galR :  20.0\n",
      "###      iniSma, maxSma :  50.0 250\n",
      "###      Stage :  3\n",
      "###      Step :  0.05\n",
      "----------------------------------------------------------------------------------------------------\n",
      "##       Set up the Ellipse configuration\n",
      "----------------------------------------------------------------------------------------------------\n",
      "\n",
      "----------------------------------------------------------------------------------------------------\n",
      "##       Start the Ellipse Run: Attempt  1\n",
      "----------------------------------------------------------------------------------------------------\n",
      "###      Origin Image  : /Users/fardila/Documents/GitHub/HSC_vs_hydro/Figures/fits_files/Illustris_5_xy_cen.fits\n",
      "###      Input Image   : temp_AJR6X.fits\n",
      "###      Output Binary : /Users/fardila/Documents/GitHub/HSC_vs_hydro/Figures/fits_files/Illustris_5_xy_cen_ellip_3.bin\n",
      "----------------------------------------------------------------------------------------------------\n",
      "----------------------------------------------------------------------------------------------------\n",
      "###     Input background value   :  0.0\n",
      "###     1-D SBP background value :  3282265.0\n",
      "###     Current outer background :  3282265.0\n",
      "----------------------------------------------------------------------------------------------------\n",
      "^^^^^^^^^^^^^^^^^^^^^^^^^^^^^^\n",
      "^^^^^^^^GALAXY 6^^^^^^^^^^^^^^\n",
      "^^^^^^^^^^^^^^^^^^^^^^^^^^^^^^\n",
      "----------------------------------------------------------------------------------------------------\n",
      "###      galX, galY :  100.0 100.0\n",
      "###      galR :  20.0\n",
      "###      iniSma, maxSma :  50.0 250\n",
      "###      Stage :  3\n",
      "###      Step :  0.05\n",
      "----------------------------------------------------------------------------------------------------\n",
      "##       Set up the Ellipse configuration\n",
      "----------------------------------------------------------------------------------------------------\n",
      "\n",
      "----------------------------------------------------------------------------------------------------\n",
      "##       Start the Ellipse Run: Attempt  1\n",
      "----------------------------------------------------------------------------------------------------\n",
      "###      Origin Image  : /Users/fardila/Documents/GitHub/HSC_vs_hydro/Figures/fits_files/Illustris_6_xy_cen.fits\n",
      "###      Input Image   : temp_OIZUG.fits\n",
      "###      Output Binary : /Users/fardila/Documents/GitHub/HSC_vs_hydro/Figures/fits_files/Illustris_6_xy_cen_ellip_3.bin\n",
      "----------------------------------------------------------------------------------------------------\n",
      "----------------------------------------------------------------------------------------------------\n",
      "###     Input background value   :  0.0\n",
      "###     1-D SBP background value :  34057960.0\n",
      "###     Current outer background :  34057960.0\n",
      "----------------------------------------------------------------------------------------------------\n",
      "^^^^^^^^^^^^^^^^^^^^^^^^^^^^^^\n",
      "^^^^^^^^GALAXY 7^^^^^^^^^^^^^^\n",
      "^^^^^^^^^^^^^^^^^^^^^^^^^^^^^^\n",
      "----------------------------------------------------------------------------------------------------\n",
      "###      galX, galY :  100.0 100.0\n",
      "###      galR :  20.0\n",
      "###      iniSma, maxSma :  50.0 250\n",
      "###      Stage :  3\n",
      "###      Step :  0.05\n",
      "----------------------------------------------------------------------------------------------------\n",
      "##       Set up the Ellipse configuration\n",
      "----------------------------------------------------------------------------------------------------\n",
      "\n",
      "----------------------------------------------------------------------------------------------------\n",
      "##       Start the Ellipse Run: Attempt  1\n",
      "----------------------------------------------------------------------------------------------------\n",
      "###      Origin Image  : /Users/fardila/Documents/GitHub/HSC_vs_hydro/Figures/fits_files/Illustris_7_xy_cen.fits\n",
      "###      Input Image   : temp_X1FLI.fits\n",
      "###      Output Binary : /Users/fardila/Documents/GitHub/HSC_vs_hydro/Figures/fits_files/Illustris_7_xy_cen_ellip_3.bin\n",
      "----------------------------------------------------------------------------------------------------\n",
      "----------------------------------------------------------------------------------------------------\n",
      "###     Input background value   :  0.0\n",
      "###     1-D SBP background value :  4503628.0\n",
      "###     Current outer background :  4503628.0\n",
      "----------------------------------------------------------------------------------------------------\n",
      "^^^^^^^^^^^^^^^^^^^^^^^^^^^^^^\n",
      "^^^^^^^^GALAXY 8^^^^^^^^^^^^^^\n",
      "^^^^^^^^^^^^^^^^^^^^^^^^^^^^^^\n",
      "----------------------------------------------------------------------------------------------------\n",
      "###      galX, galY :  100.0 100.0\n",
      "###      galR :  20.0\n",
      "###      iniSma, maxSma :  50.0 250\n",
      "###      Stage :  3\n",
      "###      Step :  0.05\n",
      "----------------------------------------------------------------------------------------------------\n",
      "##       Set up the Ellipse configuration\n",
      "----------------------------------------------------------------------------------------------------\n",
      "\n",
      "----------------------------------------------------------------------------------------------------\n",
      "##       Start the Ellipse Run: Attempt  1\n",
      "----------------------------------------------------------------------------------------------------\n",
      "###      Origin Image  : /Users/fardila/Documents/GitHub/HSC_vs_hydro/Figures/fits_files/Illustris_8_xy_cen.fits\n",
      "###      Input Image   : temp_24E2U.fits\n",
      "###      Output Binary : /Users/fardila/Documents/GitHub/HSC_vs_hydro/Figures/fits_files/Illustris_8_xy_cen_ellip_3.bin\n",
      "----------------------------------------------------------------------------------------------------\n",
      "----------------------------------------------------------------------------------------------------\n",
      "###     Input background value   :  0.0\n",
      "###     1-D SBP background value :  3553512.0\n",
      "###     Current outer background :  3553512.0\n",
      "----------------------------------------------------------------------------------------------------\n",
      "^^^^^^^^^^^^^^^^^^^^^^^^^^^^^^\n",
      "^^^^^^^^GALAXY 9^^^^^^^^^^^^^^\n",
      "^^^^^^^^^^^^^^^^^^^^^^^^^^^^^^\n",
      "----------------------------------------------------------------------------------------------------\n",
      "###      galX, galY :  100.0 100.0\n",
      "###      galR :  20.0\n",
      "###      iniSma, maxSma :  50.0 250\n",
      "###      Stage :  3\n",
      "###      Step :  0.05\n",
      "----------------------------------------------------------------------------------------------------\n",
      "##       Set up the Ellipse configuration\n",
      "----------------------------------------------------------------------------------------------------\n",
      "\n",
      "----------------------------------------------------------------------------------------------------\n",
      "##       Start the Ellipse Run: Attempt  1\n",
      "----------------------------------------------------------------------------------------------------\n",
      "###      Origin Image  : /Users/fardila/Documents/GitHub/HSC_vs_hydro/Figures/fits_files/Illustris_9_xy_cen.fits\n",
      "###      Input Image   : temp_RJFKE.fits\n",
      "###      Output Binary : /Users/fardila/Documents/GitHub/HSC_vs_hydro/Figures/fits_files/Illustris_9_xy_cen_ellip_3.bin\n"
     ]
    },
    {
     "name": "stdout",
     "output_type": "stream",
     "text": [
      "----------------------------------------------------------------------------------------------------\n",
      "!!!!!!!!!!!!!!!!!!!!!!!!!!!!!!!!!!!!!!!!!!!!!!!!!!!!!!!!!!!!!!!!!!!!!!!!!!!!!!!!!!!!!!!!!!!!!!!!!!!!\n",
      "###  ELLIPSE RUN FAILED IN ATTEMPT:  0\n",
      "###  Error Information :  XXX Can not find the outBin: /Users/fardila/Documents/GitHub/HSC_vs_hydro/Figures/fits_files/Illustris_9_xy_cen_ellip_3.bin!\n",
      "###  !!! Make the Ellipse Run A Little Bit Easier !\n",
      "!!!!!!!!!!!!!!!!!!!!!!!!!!!!!!!!!!!!!!!!!!!!!!!!!!!!!!!!!!!!!!!!!!!!!!!!!!!!!!!!!!!!!!!!!!!!!!!!!!!!\n",
      "----------------------------------------------------------------------------------------------------\n",
      "###  Maxsma  250.0 -->  225.0\n",
      "----------------------------------------------------------------------------------------------------\n",
      "\n",
      "----------------------------------------------------------------------------------------------------\n",
      "##       Start the Ellipse Run: Attempt  2\n",
      "----------------------------------------------------------------------------------------------------\n",
      "###      Origin Image  : /Users/fardila/Documents/GitHub/HSC_vs_hydro/Figures/fits_files/Illustris_9_xy_cen.fits\n",
      "###      Input Image   : temp_RJFKE.fits\n",
      "###      Output Binary : /Users/fardila/Documents/GitHub/HSC_vs_hydro/Figures/fits_files/Illustris_9_xy_cen_ellip_3.bin\n",
      "----------------------------------------------------------------------------------------------------\n",
      "!!!!!!!!!!!!!!!!!!!!!!!!!!!!!!!!!!!!!!!!!!!!!!!!!!!!!!!!!!!!!!!!!!!!!!!!!!!!!!!!!!!!!!!!!!!!!!!!!!!!\n",
      "###  ELLIPSE RUN FAILED IN ATTEMPT:  1\n",
      "###  Error Information :  XXX Can not find the outBin: /Users/fardila/Documents/GitHub/HSC_vs_hydro/Figures/fits_files/Illustris_9_xy_cen_ellip_3.bin!\n",
      "###  !!! Make the Ellipse Run A Little Bit Easier !\n",
      "!!!!!!!!!!!!!!!!!!!!!!!!!!!!!!!!!!!!!!!!!!!!!!!!!!!!!!!!!!!!!!!!!!!!!!!!!!!!!!!!!!!!!!!!!!!!!!!!!!!!\n",
      "----------------------------------------------------------------------------------------------------\n",
      "###  Maxsma  225.0 -->  202.5\n",
      "----------------------------------------------------------------------------------------------------\n",
      "\n",
      "----------------------------------------------------------------------------------------------------\n",
      "##       Start the Ellipse Run: Attempt  3\n",
      "----------------------------------------------------------------------------------------------------\n",
      "###      Origin Image  : /Users/fardila/Documents/GitHub/HSC_vs_hydro/Figures/fits_files/Illustris_9_xy_cen.fits\n",
      "###      Input Image   : temp_RJFKE.fits\n",
      "###      Output Binary : /Users/fardila/Documents/GitHub/HSC_vs_hydro/Figures/fits_files/Illustris_9_xy_cen_ellip_3.bin\n",
      "----------------------------------------------------------------------------------------------------\n",
      "!!!!!!!!!!!!!!!!!!!!!!!!!!!!!!!!!!!!!!!!!!!!!!!!!!!!!!!!!!!!!!!!!!!!!!!!!!!!!!!!!!!!!!!!!!!!!!!!!!!!\n",
      "###  ELLIPSE RUN FAILED IN ATTEMPT:  2\n",
      "###  Error Information :  XXX Can not find the outBin: /Users/fardila/Documents/GitHub/HSC_vs_hydro/Figures/fits_files/Illustris_9_xy_cen_ellip_3.bin!\n",
      "###  !!! Make the Ellipse Run A Little Bit Easier !\n",
      "!!!!!!!!!!!!!!!!!!!!!!!!!!!!!!!!!!!!!!!!!!!!!!!!!!!!!!!!!!!!!!!!!!!!!!!!!!!!!!!!!!!!!!!!!!!!!!!!!!!!\n",
      "----------------------------------------------------------------------------------------------------\n",
      "###  Maxsma  202.5 -->  182.2\n",
      "----------------------------------------------------------------------------------------------------\n",
      "\n",
      "----------------------------------------------------------------------------------------------------\n",
      "##       Start the Ellipse Run: Attempt  4\n",
      "----------------------------------------------------------------------------------------------------\n",
      "###      Origin Image  : /Users/fardila/Documents/GitHub/HSC_vs_hydro/Figures/fits_files/Illustris_9_xy_cen.fits\n",
      "###      Input Image   : temp_RJFKE.fits\n",
      "###      Output Binary : /Users/fardila/Documents/GitHub/HSC_vs_hydro/Figures/fits_files/Illustris_9_xy_cen_ellip_3.bin\n",
      "----------------------------------------------------------------------------------------------------\n",
      "----------------------------------------------------------------------------------------------------\n",
      "###     Input background value   :  0.0\n",
      "###     1-D SBP background value :  3077454.5\n",
      "###     Current outer background :  3077454.5\n",
      "----------------------------------------------------------------------------------------------------\n",
      "^^^^^^^^^^^^^^^^^^^^^^^^^^^^^^\n",
      "^^^^^^^^GALAXY 10^^^^^^^^^^^^^^\n",
      "^^^^^^^^^^^^^^^^^^^^^^^^^^^^^^\n"
     ]
    },
    {
     "name": "stderr",
     "output_type": "stream",
     "text": [
      "/Users/fardila/anaconda/envs/hsc_hydro/lib/python2.7/site-packages/matplotlib/pyplot.py:523: RuntimeWarning: More than 20 figures have been opened. Figures created through the pyplot interface (`matplotlib.pyplot.figure`) are retained until explicitly closed and may consume too much memory. (To control this warning, see the rcParam `figure.max_open_warning`).\n",
      "  max_open_warning, RuntimeWarning)\n"
     ]
    },
    {
     "name": "stdout",
     "output_type": "stream",
     "text": [
      "----------------------------------------------------------------------------------------------------\n",
      "###      galX, galY :  100.0 100.0\n",
      "###      galR :  20.0\n",
      "###      iniSma, maxSma :  50.0 250\n",
      "###      Stage :  3\n",
      "###      Step :  0.05\n",
      "----------------------------------------------------------------------------------------------------\n",
      "##       Set up the Ellipse configuration\n",
      "----------------------------------------------------------------------------------------------------\n",
      "\n",
      "----------------------------------------------------------------------------------------------------\n",
      "##       Start the Ellipse Run: Attempt  1\n",
      "----------------------------------------------------------------------------------------------------\n",
      "###      Origin Image  : /Users/fardila/Documents/GitHub/HSC_vs_hydro/Figures/fits_files/Illustris_10_xy_cen.fits\n",
      "###      Input Image   : temp_9KY2U.fits\n",
      "###      Output Binary : /Users/fardila/Documents/GitHub/HSC_vs_hydro/Figures/fits_files/Illustris_10_xy_cen_ellip_3.bin\n",
      "----------------------------------------------------------------------------------------------------\n",
      "----------------------------------------------------------------------------------------------------\n",
      "###     Input background value   :  0.0\n",
      "###     1-D SBP background value :  8402219.0\n",
      "###     Current outer background :  8402219.0\n",
      "----------------------------------------------------------------------------------------------------\n",
      "^^^^^^^^^^^^^^^^^^^^^^^^^^^^^^\n",
      "^^^^^^^^GALAXY 11^^^^^^^^^^^^^^\n",
      "^^^^^^^^^^^^^^^^^^^^^^^^^^^^^^\n",
      "----------------------------------------------------------------------------------------------------\n",
      "###      galX, galY :  100.0 100.0\n",
      "###      galR :  20.0\n",
      "###      iniSma, maxSma :  50.0 250\n",
      "###      Stage :  3\n",
      "###      Step :  0.05\n",
      "----------------------------------------------------------------------------------------------------\n",
      "##       Set up the Ellipse configuration\n",
      "----------------------------------------------------------------------------------------------------\n",
      "\n",
      "----------------------------------------------------------------------------------------------------\n",
      "##       Start the Ellipse Run: Attempt  1\n",
      "----------------------------------------------------------------------------------------------------\n",
      "###      Origin Image  : /Users/fardila/Documents/GitHub/HSC_vs_hydro/Figures/fits_files/Illustris_11_xy_cen.fits\n",
      "###      Input Image   : temp_IHVE7.fits\n",
      "###      Output Binary : /Users/fardila/Documents/GitHub/HSC_vs_hydro/Figures/fits_files/Illustris_11_xy_cen_ellip_3.bin\n",
      "----------------------------------------------------------------------------------------------------\n",
      "----------------------------------------------------------------------------------------------------\n",
      "###     Input background value   :  0.0\n",
      "###     1-D SBP background value :  1576574.0\n",
      "###     Current outer background :  1576574.0\n",
      "----------------------------------------------------------------------------------------------------\n",
      "^^^^^^^^^^^^^^^^^^^^^^^^^^^^^^\n",
      "^^^^^^^^GALAXY 12^^^^^^^^^^^^^^\n",
      "^^^^^^^^^^^^^^^^^^^^^^^^^^^^^^\n",
      "----------------------------------------------------------------------------------------------------\n",
      "###      galX, galY :  100.0 100.0\n",
      "###      galR :  20.0\n",
      "###      iniSma, maxSma :  50.0 250\n",
      "###      Stage :  3\n",
      "###      Step :  0.05\n",
      "----------------------------------------------------------------------------------------------------\n",
      "##       Set up the Ellipse configuration\n",
      "----------------------------------------------------------------------------------------------------\n",
      "\n",
      "----------------------------------------------------------------------------------------------------\n",
      "##       Start the Ellipse Run: Attempt  1\n",
      "----------------------------------------------------------------------------------------------------\n",
      "###      Origin Image  : /Users/fardila/Documents/GitHub/HSC_vs_hydro/Figures/fits_files/Illustris_12_xy_cen.fits\n",
      "###      Input Image   : temp_V07HN.fits\n",
      "###      Output Binary : /Users/fardila/Documents/GitHub/HSC_vs_hydro/Figures/fits_files/Illustris_12_xy_cen_ellip_3.bin\n",
      "----------------------------------------------------------------------------------------------------\n",
      "----------------------------------------------------------------------------------------------------\n",
      "###     Input background value   :  0.0\n",
      "###     1-D SBP background value :  1394119.0\n",
      "###     Current outer background :  1394119.0\n",
      "----------------------------------------------------------------------------------------------------\n",
      "^^^^^^^^^^^^^^^^^^^^^^^^^^^^^^\n",
      "^^^^^^^^GALAXY 13^^^^^^^^^^^^^^\n",
      "^^^^^^^^^^^^^^^^^^^^^^^^^^^^^^\n",
      "----------------------------------------------------------------------------------------------------\n",
      "###      galX, galY :  100.0 100.0\n",
      "###      galR :  20.0\n",
      "###      iniSma, maxSma :  50.0 250\n",
      "###      Stage :  3\n",
      "###      Step :  0.05\n",
      "----------------------------------------------------------------------------------------------------\n",
      "##       Set up the Ellipse configuration\n",
      "----------------------------------------------------------------------------------------------------\n",
      "\n",
      "----------------------------------------------------------------------------------------------------\n",
      "##       Start the Ellipse Run: Attempt  1\n",
      "----------------------------------------------------------------------------------------------------\n",
      "###      Origin Image  : /Users/fardila/Documents/GitHub/HSC_vs_hydro/Figures/fits_files/Illustris_13_xy_cen.fits\n",
      "###      Input Image   : temp_VRUI7.fits\n",
      "###      Output Binary : /Users/fardila/Documents/GitHub/HSC_vs_hydro/Figures/fits_files/Illustris_13_xy_cen_ellip_3.bin\n",
      "----------------------------------------------------------------------------------------------------\n",
      "----------------------------------------------------------------------------------------------------\n",
      "###     Input background value   :  0.0\n",
      "###     1-D SBP background value :  2549699.0\n",
      "###     Current outer background :  2549699.0\n",
      "----------------------------------------------------------------------------------------------------\n",
      "^^^^^^^^^^^^^^^^^^^^^^^^^^^^^^\n",
      "^^^^^^^^GALAXY 14^^^^^^^^^^^^^^\n",
      "^^^^^^^^^^^^^^^^^^^^^^^^^^^^^^\n",
      "----------------------------------------------------------------------------------------------------\n",
      "###      galX, galY :  100.0 100.0\n",
      "###      galR :  20.0\n",
      "###      iniSma, maxSma :  50.0 250\n",
      "###      Stage :  3\n",
      "###      Step :  0.05\n",
      "----------------------------------------------------------------------------------------------------\n",
      "##       Set up the Ellipse configuration\n",
      "----------------------------------------------------------------------------------------------------\n",
      "\n",
      "----------------------------------------------------------------------------------------------------\n",
      "##       Start the Ellipse Run: Attempt  1\n",
      "----------------------------------------------------------------------------------------------------\n",
      "###      Origin Image  : /Users/fardila/Documents/GitHub/HSC_vs_hydro/Figures/fits_files/Illustris_14_xy_cen.fits\n",
      "###      Input Image   : temp_POWIP.fits\n",
      "###      Output Binary : /Users/fardila/Documents/GitHub/HSC_vs_hydro/Figures/fits_files/Illustris_14_xy_cen_ellip_3.bin\n",
      "----------------------------------------------------------------------------------------------------\n",
      "----------------------------------------------------------------------------------------------------\n",
      "###     Input background value   :  0.0\n",
      "###     1-D SBP background value :  2538135.0\n",
      "###     Current outer background :  2538135.0\n",
      "----------------------------------------------------------------------------------------------------\n",
      "^^^^^^^^^^^^^^^^^^^^^^^^^^^^^^\n",
      "^^^^^^^^GALAXY 15^^^^^^^^^^^^^^\n",
      "^^^^^^^^^^^^^^^^^^^^^^^^^^^^^^\n",
      "----------------------------------------------------------------------------------------------------\n",
      "###      galX, galY :  100.0 100.0\n",
      "###      galR :  20.0\n",
      "###      iniSma, maxSma :  50.0 250\n",
      "###      Stage :  3\n",
      "###      Step :  0.05\n",
      "----------------------------------------------------------------------------------------------------\n",
      "##       Set up the Ellipse configuration\n",
      "----------------------------------------------------------------------------------------------------\n",
      "\n",
      "----------------------------------------------------------------------------------------------------\n",
      "##       Start the Ellipse Run: Attempt  1\n",
      "----------------------------------------------------------------------------------------------------\n",
      "###      Origin Image  : /Users/fardila/Documents/GitHub/HSC_vs_hydro/Figures/fits_files/Illustris_15_xy_cen.fits\n",
      "###      Input Image   : temp_Z7FQI.fits\n",
      "###      Output Binary : /Users/fardila/Documents/GitHub/HSC_vs_hydro/Figures/fits_files/Illustris_15_xy_cen_ellip_3.bin\n"
     ]
    },
    {
     "name": "stdout",
     "output_type": "stream",
     "text": [
      "----------------------------------------------------------------------------------------------------\n",
      "----------------------------------------------------------------------------------------------------\n",
      "###     Input background value   :  0.0\n",
      "###     1-D SBP background value :  1144974.0\n",
      "###     Current outer background :  1144974.0\n",
      "----------------------------------------------------------------------------------------------------\n",
      "^^^^^^^^^^^^^^^^^^^^^^^^^^^^^^\n",
      "^^^^^^^^GALAXY 16^^^^^^^^^^^^^^\n",
      "^^^^^^^^^^^^^^^^^^^^^^^^^^^^^^\n",
      "----------------------------------------------------------------------------------------------------\n",
      "###      galX, galY :  100.0 100.0\n",
      "###      galR :  20.0\n",
      "###      iniSma, maxSma :  50.0 250\n",
      "###      Stage :  3\n",
      "###      Step :  0.05\n",
      "----------------------------------------------------------------------------------------------------\n",
      "##       Set up the Ellipse configuration\n",
      "----------------------------------------------------------------------------------------------------\n",
      "\n",
      "----------------------------------------------------------------------------------------------------\n",
      "##       Start the Ellipse Run: Attempt  1\n",
      "----------------------------------------------------------------------------------------------------\n",
      "###      Origin Image  : /Users/fardila/Documents/GitHub/HSC_vs_hydro/Figures/fits_files/Illustris_16_xy_cen.fits\n",
      "###      Input Image   : temp_CGSB6.fits\n",
      "###      Output Binary : /Users/fardila/Documents/GitHub/HSC_vs_hydro/Figures/fits_files/Illustris_16_xy_cen_ellip_3.bin\n",
      "----------------------------------------------------------------------------------------------------\n",
      "----------------------------------------------------------------------------------------------------\n",
      "###     Input background value   :  0.0\n",
      "###     1-D SBP background value :  837657.8\n",
      "###     Current outer background :  837657.8\n",
      "----------------------------------------------------------------------------------------------------\n",
      "^^^^^^^^^^^^^^^^^^^^^^^^^^^^^^\n",
      "^^^^^^^^GALAXY 17^^^^^^^^^^^^^^\n",
      "^^^^^^^^^^^^^^^^^^^^^^^^^^^^^^\n",
      "----------------------------------------------------------------------------------------------------\n",
      "###      galX, galY :  100.0 100.0\n",
      "###      galR :  20.0\n",
      "###      iniSma, maxSma :  50.0 250\n",
      "###      Stage :  3\n",
      "###      Step :  0.05\n",
      "----------------------------------------------------------------------------------------------------\n",
      "##       Set up the Ellipse configuration\n",
      "----------------------------------------------------------------------------------------------------\n",
      "\n",
      "----------------------------------------------------------------------------------------------------\n",
      "##       Start the Ellipse Run: Attempt  1\n",
      "----------------------------------------------------------------------------------------------------\n",
      "###      Origin Image  : /Users/fardila/Documents/GitHub/HSC_vs_hydro/Figures/fits_files/Illustris_17_xy_cen.fits\n",
      "###      Input Image   : temp_23X4C.fits\n",
      "###      Output Binary : /Users/fardila/Documents/GitHub/HSC_vs_hydro/Figures/fits_files/Illustris_17_xy_cen_ellip_3.bin\n",
      "----------------------------------------------------------------------------------------------------\n",
      "----------------------------------------------------------------------------------------------------\n",
      "###     Input background value   :  0.0\n",
      "###     1-D SBP background value :  447794.35\n",
      "###     Current outer background :  447794.35\n",
      "----------------------------------------------------------------------------------------------------\n",
      "^^^^^^^^^^^^^^^^^^^^^^^^^^^^^^\n",
      "^^^^^^^^GALAXY 18^^^^^^^^^^^^^^\n",
      "^^^^^^^^^^^^^^^^^^^^^^^^^^^^^^\n",
      "----------------------------------------------------------------------------------------------------\n",
      "###      galX, galY :  100.0 100.0\n",
      "###      galR :  20.0\n",
      "###      iniSma, maxSma :  50.0 250\n",
      "###      Stage :  3\n",
      "###      Step :  0.05\n",
      "----------------------------------------------------------------------------------------------------\n",
      "##       Set up the Ellipse configuration\n",
      "----------------------------------------------------------------------------------------------------\n",
      "\n",
      "----------------------------------------------------------------------------------------------------\n",
      "##       Start the Ellipse Run: Attempt  1\n",
      "----------------------------------------------------------------------------------------------------\n",
      "###      Origin Image  : /Users/fardila/Documents/GitHub/HSC_vs_hydro/Figures/fits_files/Illustris_18_xy_cen.fits\n",
      "###      Input Image   : temp_NDQF0.fits\n",
      "###      Output Binary : /Users/fardila/Documents/GitHub/HSC_vs_hydro/Figures/fits_files/Illustris_18_xy_cen_ellip_3.bin\n",
      "----------------------------------------------------------------------------------------------------\n",
      "----------------------------------------------------------------------------------------------------\n",
      "###     Input background value   :  0.0\n",
      "###     1-D SBP background value :  1751370.0\n",
      "###     Current outer background :  1751370.0\n",
      "----------------------------------------------------------------------------------------------------\n",
      "^^^^^^^^^^^^^^^^^^^^^^^^^^^^^^\n",
      "^^^^^^^^GALAXY 19^^^^^^^^^^^^^^\n",
      "^^^^^^^^^^^^^^^^^^^^^^^^^^^^^^\n",
      "----------------------------------------------------------------------------------------------------\n",
      "###      galX, galY :  100.0 100.0\n",
      "###      galR :  20.0\n",
      "###      iniSma, maxSma :  50.0 250\n",
      "###      Stage :  3\n",
      "###      Step :  0.05\n",
      "----------------------------------------------------------------------------------------------------\n",
      "##       Set up the Ellipse configuration\n",
      "----------------------------------------------------------------------------------------------------\n",
      "\n",
      "----------------------------------------------------------------------------------------------------\n",
      "##       Start the Ellipse Run: Attempt  1\n",
      "----------------------------------------------------------------------------------------------------\n",
      "###      Origin Image  : /Users/fardila/Documents/GitHub/HSC_vs_hydro/Figures/fits_files/Illustris_19_xy_cen.fits\n",
      "###      Input Image   : temp_109F5.fits\n",
      "###      Output Binary : /Users/fardila/Documents/GitHub/HSC_vs_hydro/Figures/fits_files/Illustris_19_xy_cen_ellip_3.bin\n",
      "----------------------------------------------------------------------------------------------------\n",
      "----------------------------------------------------------------------------------------------------\n",
      "###     Input background value   :  0.0\n",
      "###     1-D SBP background value :  1786419.5\n",
      "###     Current outer background :  1786419.5\n",
      "----------------------------------------------------------------------------------------------------\n"
     ]
    },
    {
     "data": {
      "text/plain": [
       "<matplotlib.figure.Figure at 0x1069b3dd0>"
      ]
     },
     "metadata": {},
     "output_type": "display_data"
    },
    {
     "data": {
      "text/plain": [
       "<matplotlib.figure.Figure at 0x1a1de5a650>"
      ]
     },
     "metadata": {},
     "output_type": "display_data"
    },
    {
     "data": {
      "text/plain": [
       "<matplotlib.figure.Figure at 0x1a182bef90>"
      ]
     },
     "metadata": {},
     "output_type": "display_data"
    },
    {
     "data": {
      "text/plain": [
       "<matplotlib.figure.Figure at 0x1a1e739810>"
      ]
     },
     "metadata": {},
     "output_type": "display_data"
    },
    {
     "data": {
      "text/plain": [
       "<matplotlib.figure.Figure at 0x1a182e9650>"
      ]
     },
     "metadata": {},
     "output_type": "display_data"
    },
    {
     "data": {
      "text/plain": [
       "<matplotlib.figure.Figure at 0x1a18429490>"
      ]
     },
     "metadata": {},
     "output_type": "display_data"
    },
    {
     "data": {
      "text/plain": [
       "<matplotlib.figure.Figure at 0x1a18429790>"
      ]
     },
     "metadata": {},
     "output_type": "display_data"
    },
    {
     "data": {
      "text/plain": [
       "<matplotlib.figure.Figure at 0x1a1e4c83d0>"
      ]
     },
     "metadata": {},
     "output_type": "display_data"
    },
    {
     "data": {
      "text/plain": [
       "<matplotlib.figure.Figure at 0x1a1de36c10>"
      ]
     },
     "metadata": {},
     "output_type": "display_data"
    },
    {
     "data": {
      "text/plain": [
       "<matplotlib.figure.Figure at 0x1a1de36c50>"
      ]
     },
     "metadata": {},
     "output_type": "display_data"
    },
    {
     "data": {
      "text/plain": [
       "<matplotlib.figure.Figure at 0x107f41550>"
      ]
     },
     "metadata": {},
     "output_type": "display_data"
    },
    {
     "data": {
      "text/plain": [
       "<matplotlib.figure.Figure at 0x1a1e4ed6d0>"
      ]
     },
     "metadata": {},
     "output_type": "display_data"
    },
    {
     "data": {
      "text/plain": [
       "<matplotlib.figure.Figure at 0x1a182de950>"
      ]
     },
     "metadata": {},
     "output_type": "display_data"
    },
    {
     "data": {
      "text/plain": [
       "<matplotlib.figure.Figure at 0x1a1e574310>"
      ]
     },
     "metadata": {},
     "output_type": "display_data"
    },
    {
     "data": {
      "text/plain": [
       "<matplotlib.figure.Figure at 0x1a182de810>"
      ]
     },
     "metadata": {},
     "output_type": "display_data"
    },
    {
     "data": {
      "text/plain": [
       "<matplotlib.figure.Figure at 0x106a5c8d0>"
      ]
     },
     "metadata": {},
     "output_type": "display_data"
    },
    {
     "data": {
      "text/plain": [
       "<matplotlib.figure.Figure at 0x1a1de5a490>"
      ]
     },
     "metadata": {},
     "output_type": "display_data"
    },
    {
     "data": {
      "text/plain": [
       "<matplotlib.figure.Figure at 0x1a1de5a3d0>"
      ]
     },
     "metadata": {},
     "output_type": "display_data"
    },
    {
     "data": {
      "text/plain": [
       "<matplotlib.figure.Figure at 0x1a1e4c82d0>"
      ]
     },
     "metadata": {},
     "output_type": "display_data"
    },
    {
     "data": {
      "text/plain": [
       "<matplotlib.figure.Figure at 0x1a17173c90>"
      ]
     },
     "metadata": {},
     "output_type": "display_data"
    },
    {
     "data": {
      "text/plain": [
       "<matplotlib.figure.Figure at 0x107f41610>"
      ]
     },
     "metadata": {},
     "output_type": "display_data"
    },
    {
     "data": {
      "text/plain": [
       "<matplotlib.figure.Figure at 0x1a1de36090>"
      ]
     },
     "metadata": {},
     "output_type": "display_data"
    },
    {
     "data": {
      "text/plain": [
       "<matplotlib.figure.Figure at 0x1a1be9ed10>"
      ]
     },
     "metadata": {},
     "output_type": "display_data"
    },
    {
     "data": {
      "text/plain": [
       "<matplotlib.figure.Figure at 0x1a182cb6d0>"
      ]
     },
     "metadata": {},
     "output_type": "display_data"
    },
    {
     "data": {
      "text/plain": [
       "<matplotlib.figure.Figure at 0x1a1bebf150>"
      ]
     },
     "metadata": {},
     "output_type": "display_data"
    },
    {
     "data": {
      "text/plain": [
       "<matplotlib.figure.Figure at 0x1a182dec10>"
      ]
     },
     "metadata": {},
     "output_type": "display_data"
    },
    {
     "data": {
      "text/plain": [
       "<matplotlib.figure.Figure at 0x1a17173e50>"
      ]
     },
     "metadata": {},
     "output_type": "display_data"
    },
    {
     "data": {
      "text/plain": [
       "<matplotlib.figure.Figure at 0x1a1c4dab10>"
      ]
     },
     "metadata": {},
     "output_type": "display_data"
    },
    {
     "data": {
      "text/plain": [
       "<matplotlib.figure.Figure at 0x1a182dec90>"
      ]
     },
     "metadata": {},
     "output_type": "display_data"
    },
    {
     "data": {
      "text/plain": [
       "<matplotlib.figure.Figure at 0x1a1de3f1d0>"
      ]
     },
     "metadata": {},
     "output_type": "display_data"
    }
   ],
   "source": [
    "illustris_masses_large=[]\n",
    "illustris_masses_hires=[]\n",
    "illustris_masses=[]\n",
    "\n",
    "#large\n",
    "for i in range(n_galaxies):\n",
    "    \n",
    "    print('^^^^^^^^^^^^^^^^^^^^^^^^^^^^^^')\n",
    "    print('^^^^^^^^GALAXY '+str(i)+'^^^^^^^^^^^^^^')\n",
    "    print('^^^^^^^^^^^^^^^^^^^^^^^^^^^^^^')\n",
    "\n",
    "    try:\n",
    "        iso, masses_large = get_masses(Illustris_file_large,'Illustris',gal_n=i)\n",
    "        \n",
    "    except ValueError:\n",
    "        iso=-99.99\n",
    "        masses_large=-99.99\n",
    "\n",
    "\n",
    "    illustris_masses_large.append(masses_large)\n",
    "\n",
    "#hires\n",
    "for i in range(n_galaxies):\n",
    "    \n",
    "    print('^^^^^^^^^^^^^^^^^^^^^^^^^^^^^^')\n",
    "    print('^^^^^^^^GALAXY '+str(i)+'^^^^^^^^^^^^^^')\n",
    "    print('^^^^^^^^^^^^^^^^^^^^^^^^^^^^^^')\n",
    "\n",
    "    try:\n",
    "        iso, masses_hires = get_masses(Illustris_file_hires,'Illustris',gal_n=i)\n",
    "        \n",
    "    except ValueError:\n",
    "        iso=-99.99\n",
    "        masses_large=-99.99\n",
    "\n",
    "\n",
    "    illustris_masses_hires.append(masses_hires)\n",
    "#orig\n",
    "for i in range(20):\n",
    "    \n",
    "    print('^^^^^^^^^^^^^^^^^^^^^^^^^^^^^^')\n",
    "    print('^^^^^^^^GALAXY '+str(i)+'^^^^^^^^^^^^^^')\n",
    "    print('^^^^^^^^^^^^^^^^^^^^^^^^^^^^^^')\n",
    "\n",
    "    try:\n",
    "         iso, masses = get_masses(Illustris_file,'Illustris',gal_n=i)\n",
    "\n",
    "    except ValueError:\n",
    "        iso=-99.99\n",
    "        masses=-99.99\n",
    "\n",
    "\n",
    "    illustris_masses.append(masses)\n",
    "    \n",
    "    \n",
    "#save as pickles\n",
    "# pkl_isos = open('/Users/fardila/Documents/GitHub/HSC_vs_hydro/Data/Illustris/Illustris_isos.pkl','wb')\n",
    "# pickle.dump(isos_illustris,pkl_isos)\n",
    "# pkl_isos.close()\n",
    "\n",
    "# pkl_masses = open('/Users/fardila/Documents/GitHub/HSC_vs_hydro/Data/Illustris/Illustris_masses.pkl','wb')\n",
    "# pickle.dump(masses_illustris,pkl_masses)\n",
    "# pkl_masses.close()\n"
   ]
  },
  {
   "cell_type": "code",
   "execution_count": 13,
   "metadata": {
    "collapsed": true
   },
   "outputs": [],
   "source": [
    "#keep only top5 catalog mass to compare with large\n",
    "illustris_masses = sorted(illustris_masses, reverse=True)[:5]"
   ]
  },
  {
   "cell_type": "markdown",
   "metadata": {},
   "source": [
    "## define masses"
   ]
  },
  {
   "cell_type": "markdown",
   "metadata": {},
   "source": [
    "### LARGE "
   ]
  },
  {
   "cell_type": "code",
   "execution_count": 14,
   "metadata": {
    "collapsed": true
   },
   "outputs": [],
   "source": [
    "#masses = [m_cat, m_post, m_post_icl, m_1d_10, m_1d_30, m_1d_100, m_2d_10, m_2d_30, m_2d_100, extrap_mass]\n",
    "illustris_large_m_cat =  np.array([gal[0] for gal in illustris_masses_large])\n",
    "illustris_large_m_post =  np.array([gal[1] for gal in illustris_masses_large])\n",
    "illustris_large_m_post_icl =  np.array([gal[2] for gal in illustris_masses_large])\n",
    "illustris_large_m_1d_30 = np.array([gal[4] for gal in illustris_masses_large])\n",
    "illustris_large_m_1d_100 = np.array([gal[5] for gal in illustris_masses_large])\n",
    "illustris_large_m_2d_30 = np.array([gal[7] for gal in illustris_masses_large])\n",
    "illustris_large_m_2d_100 = np.array([gal[8] for gal in illustris_masses_large])\n",
    "illustris_large_m_extrap = np.array([gal[9] for gal in illustris_masses_large])\n",
    "\n"
   ]
  },
  {
   "cell_type": "markdown",
   "metadata": {},
   "source": [
    "### HIRES"
   ]
  },
  {
   "cell_type": "code",
   "execution_count": 15,
   "metadata": {
    "collapsed": true
   },
   "outputs": [],
   "source": [
    "#masses = [m_cat, m_post, m_post_icl, m_1d_10, m_1d_30, m_1d_100, m_2d_10, m_2d_30, m_2d_100, extrap_mass]\n",
    "illustris_hires_m_cat =  np.array([gal[0] for gal in illustris_masses_hires])\n",
    "illustris_hires_m_post =  np.array([gal[1] for gal in illustris_masses_hires])\n",
    "illustris_hires_m_post_icl =  np.array([gal[2] for gal in illustris_masses_hires])\n",
    "illustris_hires_m_1d_30 = np.array([gal[4] for gal in illustris_masses_hires])\n",
    "illustris_hires_m_1d_100 = np.array([gal[5] for gal in illustris_masses_hires])\n",
    "illustris_hires_m_2d_30 = np.array([gal[7] for gal in illustris_masses_hires])\n",
    "illustris_hires_m_2d_100 = np.array([gal[8] for gal in illustris_masses_hires])\n",
    "illustris_hires_m_extrap = np.array([gal[9] for gal in illustris_masses_hires])\n"
   ]
  },
  {
   "cell_type": "markdown",
   "metadata": {},
   "source": [
    "### ORIG"
   ]
  },
  {
   "cell_type": "code",
   "execution_count": 16,
   "metadata": {
    "collapsed": true
   },
   "outputs": [],
   "source": [
    "#masses = [m_cat, m_post, m_post_icl, m_1d_10, m_1d_30, m_1d_100, m_2d_10, m_2d_30, m_2d_100, extrap_mass]\n",
    "illustris_m_cat =  np.array([gal[0] for gal in illustris_masses])\n",
    "illustris_m_post =  np.array([gal[1] for gal in illustris_masses])\n",
    "illustris_m_post_icl =  np.array([gal[2] for gal in illustris_masses])\n",
    "illustris_m_1d_30 = np.array([gal[4] for gal in illustris_masses])\n",
    "illustris_m_1d_100 = np.array([gal[5] for gal in illustris_masses])\n",
    "illustris_m_2d_30 = np.array([gal[7] for gal in illustris_masses])\n",
    "illustris_m_2d_100 = np.array([gal[8] for gal in illustris_masses])\n",
    "illustris_m_extrap = np.array([gal[9] for gal in illustris_masses])\n",
    "\n"
   ]
  },
  {
   "cell_type": "markdown",
   "metadata": {},
   "source": [
    "## plot mass differences vs. catalog mass"
   ]
  },
  {
   "cell_type": "code",
   "execution_count": 17,
   "metadata": {},
   "outputs": [
    {
     "data": {
      "image/png": "[encoded data removed]",
      "text/plain": [
       "<matplotlib.figure.Figure at 0x1a182becd0>"
      ]
     },
     "metadata": {},
     "output_type": "display_data"
    }
   ],
   "source": [
    "#large\n",
    "illustris_large_diff_cat_post = illustris_large_m_cat-illustris_large_m_post\n",
    "illustris_large_diff_cat_post_icl = illustris_large_m_cat-illustris_large_m_post_icl\n",
    "illustris_large_diff_cat_1d100 = illustris_large_m_cat-illustris_large_m_1d_100\n",
    "illustris_large_diff_2d_1d_30 = illustris_large_m_2d_30-illustris_large_m_1d_30\n",
    "illustris_large_diff_cat_1dextrap = illustris_large_m_cat-illustris_large_m_extrap\n",
    "\n",
    "#hires\n",
    "illustris_hires_diff_cat_post = illustris_hires_m_cat-illustris_hires_m_post\n",
    "illustris_hires_diff_cat_post_icl = illustris_hires_m_cat-illustris_hires_m_post_icl\n",
    "illustris_hires_diff_cat_1d100 = illustris_hires_m_cat-illustris_hires_m_1d_100\n",
    "illustris_hires_diff_2d_1d_30 = illustris_hires_m_2d_30-illustris_hires_m_1d_30\n",
    "illustris_hires_diff_cat_1dextrap = illustris_hires_m_cat-illustris_hires_m_extrap\n",
    "\n",
    "#orig\n",
    "illustris_diff_cat_post = illustris_m_cat-illustris_m_post\n",
    "illustris_diff_cat_post_icl = illustris_m_cat-illustris_m_post_icl\n",
    "illustris_diff_cat_1d100 = illustris_m_cat-illustris_m_1d_100\n",
    "illustris_diff_2d_1d_30 = illustris_m_2d_30-illustris_m_1d_30\n",
    "illustris_diff_cat_1dextrap = illustris_m_cat-illustris_m_extrap\n",
    "\n",
    "\n",
    "# #fit lines\n",
    "# xs=np.linspace(11.2,12.5,100)\n",
    "\n",
    "# illustris_diff_cat_post_params = np.polyfit(illustris_m_cat[illustris_diff_cat_post<100], \n",
    "#                                             illustris_diff_cat_post[illustris_diff_cat_post<100],1)\n",
    "# illustris_diff_cat_post_line = np.poly1d(illustris_diff_cat_post_params)\n",
    "# ########################################################################\n",
    "# illustris_diff_cat_post_icl_params = np.polyfit(illustris_m_cat[illustris_diff_cat_post_icl<100], \n",
    "#                                                 illustris_diff_cat_post_icl[illustris_diff_cat_post_icl<100], 1)\n",
    "# illustris_diff_cat_post_icl_line = np.poly1d(illustris_diff_cat_post_icl_params)\n",
    "# ########################################################################\n",
    "# illustris_diff_cat_1d100_params = np.polyfit(illustris_m_cat[illustris_diff_cat_1d100<100], \n",
    "#                                                 illustris_diff_cat_1d100[illustris_diff_cat_1d100<100], 1)\n",
    "# illustris_diff_cat_1d100_line = np.poly1d(illustris_diff_cat_1d100_params)\n",
    "# ########################################################################\n",
    "# illustris_diff_2d_1d_30_params = np.polyfit(illustris_m_cat[illustris_diff_2d_1d_30<100], \n",
    "#                                                 illustris_diff_2d_1d_30[illustris_diff_2d_1d_30<100], 1)\n",
    "# illustris_diff_2d_1d_30_line = np.poly1d(illustris_diff_2d_1d_30_params)\n",
    "# ########################################################################\n",
    "# illustris_diff_cat_1dextrap_params = np.polyfit(illustris_m_cat[illustris_diff_cat_1dextrap<100], \n",
    "#                                                 illustris_diff_cat_1dextrap[illustris_diff_cat_1dextrap<100], 1)\n",
    "# illustris_diff_cat_1dextrap_line = np.poly1d(illustris_diff_cat_1dextrap_params)\n",
    "\n",
    "#plt.figure(figsize=[15,25])\n",
    "plt.figure(figsize=[15,25])\n",
    "ax1=plt.subplot(511)\n",
    "ax2=plt.subplot(512)\n",
    "# ax3=plt.subplot(513)\n",
    "# ax4=plt.subplot(514)\n",
    "# ax5=plt.subplot(515)\n",
    "\n",
    "\n",
    "ax1.scatter(illustris_m_cat[illustris_diff_cat_post<100], \n",
    "            illustris_diff_cat_post[illustris_diff_cat_post<100], \n",
    "            label = 'orig: mean = '+ str(round(np.mean(illustris_diff_cat_post), 3)))\n",
    "ax1.scatter(illustris_large_m_cat[illustris_large_diff_cat_post<100], \n",
    "            illustris_large_diff_cat_post[illustris_large_diff_cat_post<100], \n",
    "            label = 'large: mean = '+ str(round(np.mean(illustris_large_diff_cat_post), 3)))\n",
    "ax1.scatter(illustris_hires_m_cat[illustris_hires_diff_cat_post<100], \n",
    "            illustris_hires_diff_cat_post[illustris_hires_diff_cat_post<100], \n",
    "            label = 'hires: mean = '+ str(round(np.mean(illustris_hires_diff_cat_post), 3)))\n",
    "# ax1.plot(xs, illustris_diff_cat_post_line(xs))\n",
    "ax1.axhline(0,c=\"k\",linewidth=2,linestyle='--')\n",
    "# ax1.text(12, 0.05,'linear params: ' + str(illustris_diff_cat_post_params), fontsize=15)\n",
    "ax1.set_ylabel(r'$M_{\\star}^{\\mathrm{cat}}$ - $M_{\\star}^{\\mathrm{post}}$', fontsize=40)\n",
    "\n",
    "ax2.scatter(illustris_m_cat[illustris_diff_cat_post_icl<100], \n",
    "            illustris_diff_cat_post_icl[illustris_diff_cat_post_icl<100], \n",
    "            label = 'orig: mean = '+ str(round(np.mean(illustris_diff_cat_post_icl), 3)))\n",
    "ax2.scatter(illustris_large_m_cat[illustris_large_diff_cat_post_icl<100], \n",
    "            illustris_large_diff_cat_post_icl[illustris_large_diff_cat_post_icl<100], \n",
    "            label = 'large: mean = '+ str(round(np.mean(illustris_large_diff_cat_post_icl), 3)))\n",
    "ax2.scatter(illustris_hires_m_cat[illustris_hires_diff_cat_post_icl<100], \n",
    "            illustris_hires_diff_cat_post_icl[illustris_hires_diff_cat_post_icl<100], \n",
    "            label = 'hires: mean = '+ str(round(np.mean(illustris_hires_diff_cat_post_icl), 3)))\n",
    "# ax2.plot(xs, illustris_diff_cat_post_icl_line(xs))\n",
    "ax2.axhline(0,c=\"k\",linewidth=2,linestyle='--')\n",
    "# ax2.text(12, 0.05,'linear params: ' + str(illustris_diff_cat_post_icl_params), fontsize=15)\n",
    "ax2.set_ylabel(r'$M_{\\star}^{\\mathrm{cat}}$ - $M_{\\star}^{\\mathrm{post, diffuse}}$ ', fontsize=40)\n",
    "\n",
    "# ax3.scatter(illustris_m_cat[illustris_diff_cat_1d100<100], illustris_diff_cat_1d100[illustris_diff_cat_1d100<100])\n",
    "# # ax3.plot(xs, illustris_diff_cat_1d100_line(xs))\n",
    "# ax3.axhline(0, c=\"k\",linewidth=2, linestyle='--')\n",
    "# # ax3.text(12, 0.05,'linear params: ' + str(illustris_diff_cat_1d100_params), fontsize=15)\n",
    "# ax3.set_ylabel(r'$M_{\\star}^{\\mathrm{cat}}$ - $M_{\\star}^{\\mathrm{1d, 100}}$ ', fontsize=40)\n",
    "\n",
    "# ax4.scatter(illustris_m_cat[illustris_diff_2d_1d_30<100], illustris_diff_2d_1d_30[illustris_diff_2d_1d_30<100])\n",
    "# # ax4.plot(xs, illustris_diff_2d_1d_30_line(xs))\n",
    "# ax4.axhline(0,c=\"k\",linewidth=2,linestyle='--')\n",
    "# # ax4.text(12, 0.05,'linear params: ' + str(illustris_diff_2d_1d_30_params), fontsize=15)\n",
    "# ax4.set_ylabel(r'$M_{\\star}^{\\mathrm{2d, 30}}$ - $M_{\\star}^{\\mathrm{1d, 30}}$ ', fontsize=40)\n",
    "\n",
    "# ax5.scatter(illustris_m_cat[illustris_diff_cat_1dextrap<100], illustris_diff_cat_1dextrap[illustris_diff_cat_1dextrap<100])\n",
    "# # ax5.plot(xs, illustris_diff_cat_1dextrap_line(xs))\n",
    "# ax5.axhline(0,c=\"k\",linewidth=2,linestyle='--')\n",
    "# # ax5.text(12, 0.05,'linear params: ' + str(illustris_diff_cat_1dextrap_params), fontsize=15)\n",
    "# ax5.set_ylabel(r'$M_{\\star}^{\\mathrm{cat}}$ - $M_{\\star}^{\\mathrm{1d}}$ ', fontsize=40)\n",
    "\n",
    "\n",
    "\n",
    "\n",
    "ax2.set_xlabel('$M_{\\star}^{\\mathrm{cat}}$', fontsize=40)\n",
    "ax1.set_title('Illustris', fontsize=45)\n",
    "#plt.tight_layout()\n",
    "\n",
    "#for ax in [ax1,ax2,ax3,ax4,ax5]:\n",
    "for ax in [ax1,ax2]:\n",
    "    ax.set_ylim([0.0,0.14])\n",
    "    ax.legend(loc='upper left', fontsize=30)\n",
    "    \n"
   ]
  },
  {
   "cell_type": "markdown",
   "metadata": {},
   "source": [
    "pretty strange that the difference is larger in the large maps..."
   ]
  },
  {
   "cell_type": "markdown",
   "metadata": {},
   "source": [
    "## check with 3rd galaxy M_cat = 12.3"
   ]
  },
  {
   "cell_type": "code",
   "execution_count": 62,
   "metadata": {
    "collapsed": true
   },
   "outputs": [],
   "source": [
    "def post_mass(sim_file, gal_n):\n",
    "    f = h5py.File(sim_file, 'r')\n",
    "    cat_sh_mstar = np.array(f['cat_sh_mstar'])\n",
    "\n",
    "    try:\n",
    "        map_stars = np.array(f['map_stars'])\n",
    "    except:\n",
    "        map_stars_insitu = np.array(f['map_stars_insitu'])\n",
    "        map_stars_exsitu = np.array(f['map_stars_exsitu'])\n",
    "        map_stars = map_stars_exsitu + map_stars_insitu\n",
    "\n",
    "    map_size = f.attrs['stellar_map_size']\n",
    "    n_pixels = f.attrs['stellar_map_np']\n",
    "\n",
    "    pixel_scale=2 * (map_size/n_pixels)\n",
    "    f.close()\n",
    "\n",
    "    #make maps\n",
    "    img_cen = map_stars[gal_n, 0, 1] * (pixel_scale ** 2) # Central\n",
    "    img_sat = map_stars[gal_n, 1, 1] * (pixel_scale ** 2) # Satellites\n",
    "    img_icl = map_stars[gal_n, 2, 1] * (pixel_scale ** 2) # Diffuse\n",
    "    img_cen_sat = (img_cen + img_sat)           # Central + Satellites\n",
    "    img_cen_icl = (img_cen + img_icl)           # Central + Satellites\n",
    "    img_all = (img_cen + img_sat + img_icl)           # Central + Satellites + Diffuse\n",
    "\n",
    "    #convert the image into unit of stellar mass instead of mass density\n",
    "    m_cat = np.log10(cat_sh_mstar[gal_n])\n",
    "    m_post = np.log10(np.sum(img_cen))\n",
    "    \n",
    "    return m_cat, m_post"
   ]
  },
  {
   "cell_type": "code",
   "execution_count": 63,
   "metadata": {},
   "outputs": [
    {
     "data": {
      "text/plain": [
       "(12.306992548357814, 12.272653549712267)"
      ]
     },
     "execution_count": 63,
     "metadata": {},
     "output_type": "execute_result"
    }
   ],
   "source": [
    "post_mass(Illustris_file,3)"
   ]
  },
  {
   "cell_type": "code",
   "execution_count": 65,
   "metadata": {},
   "outputs": [
    {
     "data": {
      "text/plain": [
       "(12.306992548357814, 12.241214114223892)"
      ]
     },
     "execution_count": 65,
     "metadata": {},
     "output_type": "execute_result"
    }
   ],
   "source": [
    "post_mass(Illustris_file_large,2)"
   ]
  },
  {
   "cell_type": "code",
   "execution_count": null,
   "metadata": {
    "collapsed": true
   },
   "outputs": [],
   "source": []
  }
 ],
 "metadata": {
  "kernelspec": {
   "display_name": "Python 2",
   "language": "python",
   "name": "python2"
  },
  "language_info": {
   "codemirror_mode": {
    "name": "ipython",
    "version": 2
   },
   "file_extension": ".py",
   "mimetype": "text/x-python",
   "name": "python",
   "nbconvert_exporter": "python",
   "pygments_lexer": "ipython2",
   "version": "2.7.15"
  }
 },
 "nbformat": 4,
 "nbformat_minor": 2
}
