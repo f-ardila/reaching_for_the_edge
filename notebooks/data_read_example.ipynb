{
 "cells": [
  {
   "cell_type": "markdown",
   "metadata": {},
   "source": [
    "# Showing the data, how to open it and how to plot it"
   ]
  },
  {
   "cell_type": "code",
   "execution_count": 1,
   "metadata": {},
   "outputs": [],
   "source": [
    "import numpy as np\n",
    "import matplotlib.pyplot as plt\n",
    "import pickle"
   ]
  },
  {
   "cell_type": "code",
   "execution_count": 2,
   "metadata": {},
   "outputs": [],
   "source": [
    "def open_pkl(file_name):\n",
    "    pkl = open(file_name,'rb')\n",
    "    array = pickle.load(pkl)\n",
    "    pkl.close()  \n",
    "    return array\n"
   ]
  },
  {
   "cell_type": "code",
   "execution_count": 3,
   "metadata": {},
   "outputs": [],
   "source": [
    "#open pickels\n",
    "illustris_masses_file='../data/Illustris/Illustris_masses_quick.pkl'\n",
    "illustris_isos_file='../data/Illustris/Illustris_isos_quick.pkl'\n",
    "\n",
    "tng_masses_file='../data/TNG/TNG_masses_quick.pkl'\n",
    "tng_isos_file='../data/TNG/TNG_isos_quick.pkl'\n",
    "\n",
    "\n",
    "illustris_masses = open_pkl(illustris_masses_file)\n",
    "illustris_isos = open_pkl(illustris_isos_file)\n",
    "\n",
    "tng_masses = open_pkl(tng_masses_file)\n",
    "tng_isos = open_pkl(tng_isos_file)"
   ]
  },
  {
   "cell_type": "markdown",
   "metadata": {},
   "source": [
    "## masses "
   ]
  },
  {
   "cell_type": "code",
   "execution_count": 4,
   "metadata": {},
   "outputs": [
    {
     "data": {
      "text/plain": [
       "astropy.table.table.Table"
      ]
     },
     "execution_count": 4,
     "metadata": {},
     "output_type": "execute_result"
    }
   ],
   "source": [
    "type(tng_masses)"
   ]
  },
  {
   "cell_type": "code",
   "execution_count": 5,
   "metadata": {},
   "outputs": [
    {
     "data": {
      "text/html": [
       "&lt;Table length=235&gt;\n",
       "<table id=\"table4812910544\" class=\"table-striped table-bordered table-condensed\">\n",
       "<thead><tr><th>m_1d_10</th><th>m_1d_30</th><th>m_1d_100</th><th>m_1d_500</th><th>m_1d_800</th><th>m_2d_10</th><th>m_2d_30</th><th>m_2d_100</th><th>m_2d_500</th><th>m_2d_800</th><th>extrapolated_m_300</th><th>extrapolated_m_500</th><th>extrapolated_m_800</th><th>m_cat</th><th>m_post</th><th>m_post_icl</th></tr></thead>\n",
       "<thead><tr><th>float64</th><th>float64</th><th>float64</th><th>float64</th><th>float64</th><th>float64</th><th>float64</th><th>float64</th><th>float64</th><th>float64</th><th>float64</th><th>float64</th><th>float64</th><th>float64</th><th>float64</th><th>float64</th></tr></thead>\n",
       "<tr><td>11.623074951765696</td><td>12.086187467131335</td><td>12.300583497577597</td><td>12.429187774781756</td><td>12.4415481892605</td><td>11.59211819401873</td><td>11.980390530978925</td><td>12.211540578547103</td><td>12.383923709073407</td><td>12.40734361924449</td><td>12.427917925005357</td><td>12.465211608743516</td><td>12.49221661825764</td><td>12.414851125832998</td><td>12.413413089563061</td><td>12.414139258776743</td></tr>\n",
       "<tr><td>11.332555364933064</td><td>11.922879546749787</td><td>12.116283745613924</td><td>12.270245206046724</td><td>12.29931262289697</td><td>11.623072366053544</td><td>11.880144253866971</td><td>12.012180748790207</td><td>12.157966952899645</td><td>12.188725776320481</td><td>12.405132697583307</td><td>12.514235874567875</td><td>12.606349144711565</td><td>12.222039953054319</td><td>12.210375448739363</td><td>12.210939215934795</td></tr>\n",
       "<tr><td>11.396190370092036</td><td>11.888275658041259</td><td>12.15292458194179</td><td>12.313264145336158</td><td>12.333761422617979</td><td>11.286184846496122</td><td>11.775323351366719</td><td>12.02108363148387</td><td>12.270355857906841</td><td>12.297060276333088</td><td>12.41299831209653</td><td>12.497809630997654</td><td>12.564559506024347</td><td>12.33545120600355</td><td>12.327935962728256</td><td>12.32893027010405</td></tr>\n",
       "<tr><td>11.542748537070784</td><td>11.905278189313352</td><td>12.109033521196325</td><td>12.216726264442386</td><td>12.228847608697215</td><td>11.536340574326513</td><td>11.93567463339741</td><td>12.143733786034327</td><td>12.271669931399861</td><td>12.292478427556652</td><td>12.238685749893602</td><td>12.280379554403375</td><td>12.312107871331715</td><td>12.306992548357814</td><td>12.29988460509768</td><td>12.30078232870949</td></tr>\n",
       "<tr><td>11.400801933502091</td><td>11.725015339236586</td><td>11.883399624847714</td><td>11.997635451567975</td><td>12.010693914985929</td><td>11.443721447950136</td><td>11.735639920626939</td><td>11.894848298564693</td><td>12.016005227060774</td><td>12.026948369158516</td><td>12.068559869980938</td><td>12.140743943355687</td><td>12.201844145642436</td><td>12.034769685894226</td><td>12.028936908777807</td><td>12.029065287160565</td></tr>\n",
       "<tr><td>11.418292803566024</td><td>11.786719280110079</td><td>11.93483659737562</td><td>12.036022738570576</td><td>12.054553903849346</td><td>11.542427652964106</td><td>11.749712898614128</td><td>11.899448543118002</td><td>12.00666371790302</td><td>12.023299380353402</td><td>12.048853734573413</td><td>12.086582027185694</td><td>12.115629558857359</td><td>12.036076475095859</td><td>12.02833774351312</td><td>12.029273202655041</td></tr>\n",
       "<tr><td>11.499107903432039</td><td>11.852198629716439</td><td>12.035373087197236</td><td>12.126767741485446</td><td>12.135300330985284</td><td>11.509859521712063</td><td>11.82176931049494</td><td>12.15259522872082</td><td>12.255037601277913</td><td>12.258307336068695</td><td>12.150327596620468</td><td>12.186266318963472</td><td>12.213120738824792</td><td>12.258741664986344</td><td>12.2585869330225</td><td>12.26003748827549</td></tr>\n",
       "<tr><td>10.93148820845676</td><td>11.564148512228929</td><td>11.814140018190843</td><td>12.052965417154114</td><td>12.095519990763846</td><td>11.351755698092292</td><td>11.680699900888612</td><td>11.855701105647647</td><td>12.022918424288497</td><td>12.043040892436697</td><td>12.168031203780602</td><td>12.28481953191116</td><td>12.378785780894923</td><td>12.064481934791557</td><td>12.062775734392442</td><td>12.063510362344728</td></tr>\n",
       "<tr><td>11.3215704871789</td><td>11.771784806621335</td><td>12.036410312433476</td><td>12.177561529317412</td><td>12.194216920092543</td><td>11.560593281503857</td><td>11.857366375104101</td><td>12.049064509755883</td><td>12.159827317602481</td><td>12.169767402571056</td><td>12.237470606249648</td><td>12.30404724686708</td><td>12.356233804307028</td><td>12.175000477057637</td><td>12.172896487019157</td><td>12.176843003669951</td></tr>\n",
       "<tr><td>11.271323764865732</td><td>11.756437637576706</td><td>12.010246853527706</td><td>12.17053938618566</td><td>12.186166405538014</td><td>11.410426011138016</td><td>11.825498387692553</td><td>12.0173189731328</td><td>12.136350666410745</td><td>12.157131053718981</td><td>12.269844823380764</td><td>12.357015636385668</td><td>12.426550133522463</td><td>12.167432065158131</td><td>12.163688285655574</td><td>12.164260582760148</td></tr>\n",
       "<tr><td>...</td><td>...</td><td>...</td><td>...</td><td>...</td><td>...</td><td>...</td><td>...</td><td>...</td><td>...</td><td>...</td><td>...</td><td>...</td><td>...</td><td>...</td><td>...</td></tr>\n",
       "<tr><td>10.790582027453397</td><td>11.101001345865743</td><td>11.181058362249438</td><td>11.200790571064854</td><td>11.200790571064854</td><td>11.020857845656623</td><td>11.260552661952564</td><td>11.32698192883203</td><td>11.350666884235531</td><td>11.351541119882672</td><td>11.199889573534326</td><td>11.20296585022703</td><td>11.204525603758231</td><td>11.351541122783459</td><td>11.351541117952383</td><td>11.351592078875488</td></tr>\n",
       "<tr><td>10.951807315674358</td><td>11.205986983444163</td><td>11.273976585850889</td><td>11.293692713614364</td><td>11.293782851180863</td><td>11.010462984755454</td><td>11.160703290551165</td><td>11.237789158467269</td><td>11.26767960720035</td><td>11.267684619633277</td><td>11.305225538179034</td><td>11.312985677245605</td><td>11.31797319404805</td><td>11.267684634639354</td><td>11.267684620252663</td><td>11.270214681671673</td></tr>\n",
       "<tr><td>10.756782154241883</td><td>11.12171736497763</td><td>11.261159943740997</td><td>11.27425979255995</td><td>11.274271288574054</td><td>11.046715168848737</td><td>11.182352689901451</td><td>11.245646566666569</td><td>11.268651815082785</td><td>11.268654669899847</td><td>11.307878841465794</td><td>11.315016641231951</td><td>11.318550643403889</td><td>11.2686546532373</td><td>11.26865466803078</td><td>11.268736114297647</td></tr>\n",
       "<tr><td>10.854888443019606</td><td>11.093867488580129</td><td>11.168120330473398</td><td>11.173526677064114</td><td>11.173526677064114</td><td>10.931575556844493</td><td>11.16884738719123</td><td>11.235183981194604</td><td>11.251622658891714</td><td>11.251708944083443</td><td>11.172238121155543</td><td>11.17239708658649</td><td>11.172434647791965</td><td>11.251708929910023</td><td>11.251708940435742</td><td>11.252145952864858</td></tr>\n",
       "<tr><td>10.869156326533435</td><td>11.177135159734377</td><td>11.288094494615681</td><td>11.304079429621002</td><td>11.304079992148242</td><td>10.890688966848863</td><td>11.169905657730274</td><td>11.235717965562564</td><td>11.246673349406938</td><td>11.246768619218505</td><td>11.331438807314656</td><td>11.338982720297034</td><td>11.342985527789002</td><td>11.246768610234705</td><td>11.2467686132058</td><td>11.247133131815659</td></tr>\n",
       "<tr><td>10.768218733989086</td><td>11.12311729868658</td><td>11.283427029171909</td><td>11.298682941661724</td><td>11.298682941661724</td><td>11.204970435144034</td><td>11.31949916957043</td><td>11.345512443229522</td><td>11.352723922270059</td><td>11.35275340193858</td><td>11.341066807995452</td><td>11.35051595690327</td><td>11.355399791308292</td><td>11.352753416225037</td><td>11.352753406139326</td><td>11.35289092222148</td></tr>\n",
       "<tr><td>10.83289723259891</td><td>11.140998560663805</td><td>11.210370736397524</td><td>11.21989991880169</td><td>11.219944032408925</td><td>11.187383303495874</td><td>11.429191884131388</td><td>11.47064190437841</td><td>11.478940375609158</td><td>11.479001153590199</td><td>11.223957569498154</td><td>11.22566380994875</td><td>11.226411996635619</td><td>11.479001146836213</td><td>11.479001156253263</td><td>11.479102990455113</td></tr>\n",
       "<tr><td>10.771615052269176</td><td>11.184611684329472</td><td>11.342729937193104</td><td>11.369813245273415</td><td>11.369893981369493</td><td>10.877320947710702</td><td>11.150094244102924</td><td>11.209897470917667</td><td>11.219302074568128</td><td>11.219394267535028</td><td>11.418179848092105</td><td>11.433155674320744</td><td>11.441805158212473</td><td>11.21940335846119</td><td>11.219403356992371</td><td>11.220218610039748</td></tr>\n",
       "<tr><td>10.863197201291216</td><td>11.190604599871442</td><td>11.287832198963065</td><td>11.295212533915144</td><td>11.295212533915144</td><td>11.198834909917135</td><td>11.33750907056901</td><td>11.366922948494814</td><td>11.372147521565935</td><td>11.372189269164014</td><td>11.301283468767947</td><td>11.302316068896495</td><td>11.302664927930632</td><td>11.372195482358185</td><td>11.372190138678297</td><td>11.372825674889492</td></tr>\n",
       "<tr><td>10.808453938169354</td><td>11.092687762627172</td><td>11.19178670407975</td><td>11.196995251120377</td><td>11.196995251120377</td><td>11.099159005695466</td><td>11.396232523731225</td><td>11.433213085484871</td><td>11.446459461446457</td><td>11.446469398295045</td><td>11.20022235205082</td><td>11.200693225920087</td><td>11.200827765725686</td><td>11.44646940403143</td><td>11.446469395444568</td><td>11.446485675162961</td></tr>\n",
       "</table>"
      ],
      "text/plain": [
       "<Table length=235>\n",
       "     m_1d_10            m_1d_30       ...       m_post           m_post_icl    \n",
       "     float64            float64       ...      float64            float64      \n",
       "------------------ ------------------ ... ------------------ ------------------\n",
       "11.623074951765696 12.086187467131335 ... 12.413413089563061 12.414139258776743\n",
       "11.332555364933064 11.922879546749787 ... 12.210375448739363 12.210939215934795\n",
       "11.396190370092036 11.888275658041259 ... 12.327935962728256  12.32893027010405\n",
       "11.542748537070784 11.905278189313352 ...  12.29988460509768  12.30078232870949\n",
       "11.400801933502091 11.725015339236586 ... 12.028936908777807 12.029065287160565\n",
       "11.418292803566024 11.786719280110079 ...  12.02833774351312 12.029273202655041\n",
       "11.499107903432039 11.852198629716439 ...   12.2585869330225  12.26003748827549\n",
       " 10.93148820845676 11.564148512228929 ... 12.062775734392442 12.063510362344728\n",
       "  11.3215704871789 11.771784806621335 ... 12.172896487019157 12.176843003669951\n",
       "11.271323764865732 11.756437637576706 ... 12.163688285655574 12.164260582760148\n",
       "               ...                ... ...                ...                ...\n",
       "10.790582027453397 11.101001345865743 ... 11.351541117952383 11.351592078875488\n",
       "10.951807315674358 11.205986983444163 ... 11.267684620252663 11.270214681671673\n",
       "10.756782154241883  11.12171736497763 ...  11.26865466803078 11.268736114297647\n",
       "10.854888443019606 11.093867488580129 ... 11.251708940435742 11.252145952864858\n",
       "10.869156326533435 11.177135159734377 ...   11.2467686132058 11.247133131815659\n",
       "10.768218733989086  11.12311729868658 ... 11.352753406139326  11.35289092222148\n",
       " 10.83289723259891 11.140998560663805 ... 11.479001156253263 11.479102990455113\n",
       "10.771615052269176 11.184611684329472 ... 11.219403356992371 11.220218610039748\n",
       "10.863197201291216 11.190604599871442 ... 11.372190138678297 11.372825674889492\n",
       "10.808453938169354 11.092687762627172 ... 11.446469395444568 11.446485675162961"
      ]
     },
     "execution_count": 5,
     "metadata": {},
     "output_type": "execute_result"
    }
   ],
   "source": [
    "tng_masses"
   ]
  },
  {
   "cell_type": "markdown",
   "metadata": {},
   "source": [
    "## isos "
   ]
  },
  {
   "cell_type": "code",
   "execution_count": 6,
   "metadata": {},
   "outputs": [
    {
     "data": {
      "text/plain": [
       "astropy.table.table.Table"
      ]
     },
     "execution_count": 6,
     "metadata": {},
     "output_type": "execute_result"
    }
   ],
   "source": [
    "type(tng_isos[0])"
   ]
  },
  {
   "cell_type": "code",
   "execution_count": 7,
   "metadata": {
    "scrolled": false
   },
   "outputs": [
    {
     "data": {
      "text/plain": [
       "[<Table length=125>\n",
       "    sma        intens       int_err    ...      sma_kpc          intens_kpc  \n",
       "  float64     float64       float64    ...      float64           float64    \n",
       " --------- -------------- ------------ ... ------------------ ---------------\n",
       "       0.0 129035600000.0          nan ...                0.0    4536407812.5\n",
       " 0.5095395 102718700000.0 4904136000.0 ...           2.717544  3611204296.875\n",
       " 0.5350164 101464400000.0 5140003000.0 ... 2.8534207999999994    3567107812.5\n",
       " 0.5617672 100154000000.0 5386708000.0 ... 2.9960917333333335    3521039062.5\n",
       " 0.5898556  98784520000.0 5644844000.0 ... 3.1458965333333335   3472893281.25\n",
       " 0.6193483  97354700000.0 5914769000.0 ...  3.303190933333333  3422626171.875\n",
       " 0.6503156  95861570000.0 6197040000.0 ... 3.4683498666666663 3370133320.3125\n",
       " 0.6828314  94303060000.0 6492211000.0 ... 3.6417674666666664  3315341953.125\n",
       " 0.7169729  92677010000.0 6800725000.0 ... 3.8238554666666666 3258176132.8125\n",
       " 0.7528216  90980940000.0 7123194000.0 ...  4.015048533333333  3198548671.875\n",
       "       ...            ...          ... ...                ...             ...\n",
       "  132.6648      2311307.0     210086.9 ...           707.5456  81256.88671875\n",
       "   139.298      1852858.0     183468.5 ...  742.9226666666666   65139.5390625\n",
       "  146.2629      1413340.0     134841.2 ...           780.0688    49687.734375\n",
       "   153.576      1491703.0     217392.6 ...  819.0719999999999  52442.68359375\n",
       "  161.2548      1357828.0     220848.2 ...  860.0255999999999    47736.140625\n",
       "  169.3175      1309921.0     210177.5 ...  903.0266666666666  46051.91015625\n",
       "  177.7834      1246805.0     203268.6 ...  948.1781333333333  43832.98828125\n",
       "  186.6726      1137662.0     211743.3 ...  995.5871999999999   39995.9296875\n",
       "  196.0062      1293343.0     284122.4 ... 1045.3663999999999  45469.08984375\n",
       "  205.8065      1810760.0     410695.6 ... 1097.6346666666666     63659.53125,\n",
       " <Table length=128>\n",
       "    sma        intens      int_err    ...      sma_kpc          intens_kpc  \n",
       "  float64     float64      float64    ...      float64           float64    \n",
       " --------- ------------- ------------ ... ------------------ ---------------\n",
       "       0.0 90413200000.0          nan ...                0.0    3178589062.5\n",
       " 0.5095395 80932810000.0 3919629000.0 ...           2.717544 2845294101.5625\n",
       " 0.5350164 80431220000.0 4116418000.0 ... 2.8534207999999994  2827660078.125\n",
       " 0.5617672 79901570000.0 4323308000.0 ... 2.9960917333333335 2809039570.3125\n",
       " 0.5898556 79342590000.0 4540655000.0 ... 3.1458965333333335 2789387929.6875\n",
       " 0.6193483 78752270000.0 4769084000.0 ...  3.303190933333333 2768634492.1875\n",
       " 0.6503156 78128420000.0 5009233000.0 ... 3.4683498666666663  2746702265.625\n",
       " 0.6828314 77469470000.0 5261666000.0 ... 3.6417674666666664 2723536054.6875\n",
       " 0.7169729 76772770000.0 5527098000.0 ... 3.8238554666666666 2699042695.3125\n",
       " 0.7528216 76036240000.0 5806265000.0 ...  4.015048533333333    2673149062.5\n",
       "       ...           ...          ... ...                ...             ...\n",
       "   153.576     5523020.0    1055131.0 ...  819.0719999999999   194168.671875\n",
       "  161.2548     5110520.0     925194.1 ...  860.0255999999999    179666.71875\n",
       "  169.3175     5761656.0    1056277.0 ...  903.0266666666666    202558.21875\n",
       "  177.7834     4655249.0     743347.6 ...  948.1781333333333 163661.09765625\n",
       "  186.6726     4155638.0     662156.3 ...  995.5871999999999  146096.6484375\n",
       "  196.0062     3710817.0     577446.6 ... 1045.3663999999999 130458.41015625\n",
       "  205.8065     3414963.0     573660.1 ... 1097.6346666666666 120057.29296875\n",
       "  216.0968     3079878.0     491419.3 ... 1152.5162666666665  108276.9609375\n",
       "  226.9016     2937524.0     436052.4 ... 1210.1418666666666   103272.328125\n",
       "  238.2467     2525414.0     384160.7 ... 1270.6490666666666   88784.0859375,\n",
       " <Table length=128>\n",
       "    sma        intens      int_err    ...      sma_kpc          intens_kpc  \n",
       "  float64     float64      float64    ...      float64           float64    \n",
       " --------- ------------- ------------ ... ------------------ ---------------\n",
       "       0.0 69550430000.0          nan ...                0.0 2445132304.6875\n",
       " 0.5095395 67846970000.0 4906488000.0 ...           2.717544 2385245039.0625\n",
       " 0.5350164 67701690000.0 5112264000.0 ... 2.8534207999999994 2380137539.0625\n",
       " 0.5617672 67542750000.0 5324456000.0 ... 2.9960917333333335 2374549804.6875\n",
       " 0.5898556 67369180000.0 5542986000.0 ... 3.1458965333333335  2368447734.375\n",
       " 0.6193483 67179390000.0 5767750000.0 ...  3.303190933333333 2361775429.6875\n",
       " 0.6503156 66971840000.0 5998600000.0 ... 3.4683498666666663    2354478750.0\n",
       " 0.6828314 66744690000.0 6235461000.0 ... 3.6417674666666664 2346493007.8125\n",
       " 0.7169729 66496280000.0 6478022000.0 ... 3.8238554666666666   2337759843.75\n",
       " 0.7528216 66224260000.0 6726046000.0 ...  4.015048533333333  2328196640.625\n",
       "       ...           ...          ... ...                ...             ...\n",
       "   153.576     3511780.0     470410.3 ...  819.0719999999999   123461.015625\n",
       "  161.2548     3776846.0     490935.1 ...  860.0255999999999  132779.7421875\n",
       "  169.3175     3395766.0     424276.8 ...  903.0266666666666  119382.3984375\n",
       "  177.7834     3163493.0     394976.5 ...  948.1781333333333 111216.55078125\n",
       "  186.6726     2832166.0     367315.8 ...  995.5871999999999   99568.3359375\n",
       "  196.0062     2683600.0     360893.2 ... 1045.3663999999999      94345.3125\n",
       "  205.8065     2784954.0     385890.0 ... 1097.6346666666666   97908.5390625\n",
       "  216.0968     2564655.0     368615.7 ... 1152.5162666666665  90163.65234375\n",
       "  226.9016     2311193.0     331519.8 ... 1210.1418666666666  81252.87890625\n",
       "  238.2467     1887519.0     277789.7 ... 1270.6490666666666  66358.08984375]"
      ]
     },
     "execution_count": 7,
     "metadata": {},
     "output_type": "execute_result"
    }
   ],
   "source": [
    "tng_isos[:3]"
   ]
  },
  {
   "cell_type": "code",
   "execution_count": 8,
   "metadata": {},
   "outputs": [
    {
     "data": {
      "text/plain": [
       "['sma',\n",
       " 'intens',\n",
       " 'int_err',\n",
       " 'pix_var',\n",
       " 'rms',\n",
       " 'ell',\n",
       " 'ell_err',\n",
       " 'pa',\n",
       " 'pa_err',\n",
       " 'x0',\n",
       " 'x0_err',\n",
       " 'y0',\n",
       " 'y0_err',\n",
       " 'grad',\n",
       " 'grad_err',\n",
       " 'grad_r_err',\n",
       " 'rsma',\n",
       " 'mag',\n",
       " 'mag_lerr',\n",
       " 'mag_uerr',\n",
       " 'tflux_e',\n",
       " 'tflux_c',\n",
       " 'tmag_e',\n",
       " 'tmag_c',\n",
       " 'npix_e',\n",
       " 'npix_c',\n",
       " 'a3',\n",
       " 'a3_err',\n",
       " 'b3',\n",
       " 'b3_err',\n",
       " 'a4',\n",
       " 'a4_err',\n",
       " 'b4',\n",
       " 'b4_err',\n",
       " 'ndata',\n",
       " 'nflag',\n",
       " 'niter',\n",
       " 'stop',\n",
       " 'a_big',\n",
       " 'sarea',\n",
       " 'a1',\n",
       " 'a1_err',\n",
       " 'b1',\n",
       " 'b1_err',\n",
       " 'a2',\n",
       " 'a2_err',\n",
       " 'b2',\n",
       " 'b2_err',\n",
       " 'pa_norm',\n",
       " 'sbp_ori',\n",
       " 'sbp_sub',\n",
       " 'sbp',\n",
       " 'intens_sub',\n",
       " 'intens_bkg',\n",
       " 'sbp_err',\n",
       " 'sbp_low',\n",
       " 'sbp_upp',\n",
       " 'sma_asec',\n",
       " 'rsma_asec',\n",
       " 'growth_ori',\n",
       " 'growth_sub',\n",
       " 'avg_x0',\n",
       " 'avg_y0',\n",
       " 'avg_q',\n",
       " 'avg_pa',\n",
       " 'avg_bkg',\n",
       " 'intens_cor',\n",
       " 'sbp_cor',\n",
       " 'growth_cor',\n",
       " 'rad_outer',\n",
       " 'mag_tot',\n",
       " 'mag_tot_ori',\n",
       " 'mag_tot_sub',\n",
       " 'sma_kpc',\n",
       " 'intens_kpc']"
      ]
     },
     "execution_count": 8,
     "metadata": {},
     "output_type": "execute_result"
    }
   ],
   "source": [
    "tng_isos[0].keys()"
   ]
  },
  {
   "cell_type": "markdown",
   "metadata": {},
   "source": [
    "## plotting a stellar mass profile "
   ]
  },
  {
   "cell_type": "code",
   "execution_count": 9,
   "metadata": {},
   "outputs": [
    {
     "data": {
      "image/png": "[encoded data removed]",
      "text/plain": [
       "<matplotlib.figure.Figure at 0x120505c50>"
      ]
     },
     "metadata": {
      "needs_background": "light"
     },
     "output_type": "display_data"
    }
   ],
   "source": [
    "iso = tng_isos[0]\n",
    "plt.plot(iso['sma_kpc'],\n",
    "         np.log10(iso['intens_kpc']),\n",
    "         linewidth=2)\n",
    "plt.ylabel(r'$\\mu_{\\star}\\ [\\log (M_{\\odot}/\\mathrm{kpc}^2)]$', fontsize=15)\n",
    "plt.xlabel(r'$R \\: [kpc]$', fontsize=15)\n",
    "plt.show()"
   ]
  },
  {
   "cell_type": "code",
   "execution_count": null,
   "metadata": {},
   "outputs": [],
   "source": []
  }
 ],
 "metadata": {
  "kernelspec": {
   "display_name": "Python [conda env:hsc_hydro]",
   "language": "python",
   "name": "conda-env-hsc_hydro-py"
  },
  "language_info": {
   "codemirror_mode": {
    "name": "ipython",
    "version": 2
   },
   "file_extension": ".py",
   "mimetype": "text/x-python",
   "name": "python",
   "nbconvert_exporter": "python",
   "pygments_lexer": "ipython2",
   "version": "2.7.15"
  }
 },
 "nbformat": 4,
 "nbformat_minor": 2
}
